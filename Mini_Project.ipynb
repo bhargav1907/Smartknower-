{
  "nbformat": 4,
  "nbformat_minor": 0,
  "metadata": {
    "colab": {
      "name": "Mini Project.ipynb",
      "provenance": [],
      "collapsed_sections": [],
      "toc_visible": true,
      "include_colab_link": true
    },
    "kernelspec": {
      "name": "python3",
      "display_name": "Python 3"
    }
  },
  "cells": [
    {
      "cell_type": "markdown",
      "metadata": {
        "id": "view-in-github",
        "colab_type": "text"
      },
      "source": [
        "<a href=\"https://colab.research.google.com/github/bhargav1907/Smartknower-/blob/master/Mini_Project.ipynb\" target=\"_parent\"><img src=\"https://colab.research.google.com/assets/colab-badge.svg\" alt=\"Open In Colab\"/></a>"
      ]
    },
    {
      "cell_type": "markdown",
      "metadata": {
        "id": "0IpgVkQgXJNt",
        "colab_type": "text"
      },
      "source": [
        "## Dataset: [Glass Classification](https://www.kaggle.com/uciml/glass)"
      ]
    },
    {
      "cell_type": "code",
      "metadata": {
        "id": "cv3BE5dTXIij",
        "colab_type": "code",
        "colab": {}
      },
      "source": [
        "import numpy as np\n",
        "import pandas as pd\n",
        "import matplotlib.pyplot as plt\n",
        "import seaborn as sns"
      ],
      "execution_count": 36,
      "outputs": []
    },
    {
      "cell_type": "code",
      "metadata": {
        "id": "QzFKBa3BXLe5",
        "colab_type": "code",
        "colab": {
          "base_uri": "https://localhost:8080/",
          "height": 54
        },
        "outputId": "78f84b8c-233c-4567-de2e-7023712cb6d1"
      },
      "source": [
        "from google.colab import drive\n",
        "drive.mount('/content/drive')\n"
      ],
      "execution_count": 37,
      "outputs": [
        {
          "output_type": "stream",
          "text": [
            "Drive already mounted at /content/drive; to attempt to forcibly remount, call drive.mount(\"/content/drive\", force_remount=True).\n"
          ],
          "name": "stdout"
        }
      ]
    },
    {
      "cell_type": "code",
      "metadata": {
        "id": "yefuCuGbQ6MV",
        "colab_type": "code",
        "colab": {
          "base_uri": "https://localhost:8080/",
          "height": 419
        },
        "outputId": "8d4d177b-75f5-493f-fa26-56a3c856d185"
      },
      "source": [
        "df1 = pd.read_csv('/content/drive/My Drive/Python - SmartKnower(mine)/Machine learning Algorithms/datasets_738_1370_glass.csv')\n",
        "df = df1.copy()\n",
        "df"
      ],
      "execution_count": 54,
      "outputs": [
        {
          "output_type": "execute_result",
          "data": {
            "text/html": [
              "<div>\n",
              "<style scoped>\n",
              "    .dataframe tbody tr th:only-of-type {\n",
              "        vertical-align: middle;\n",
              "    }\n",
              "\n",
              "    .dataframe tbody tr th {\n",
              "        vertical-align: top;\n",
              "    }\n",
              "\n",
              "    .dataframe thead th {\n",
              "        text-align: right;\n",
              "    }\n",
              "</style>\n",
              "<table border=\"1\" class=\"dataframe\">\n",
              "  <thead>\n",
              "    <tr style=\"text-align: right;\">\n",
              "      <th></th>\n",
              "      <th>RI</th>\n",
              "      <th>Na</th>\n",
              "      <th>Mg</th>\n",
              "      <th>Al</th>\n",
              "      <th>Si</th>\n",
              "      <th>K</th>\n",
              "      <th>Ca</th>\n",
              "      <th>Ba</th>\n",
              "      <th>Fe</th>\n",
              "      <th>Type</th>\n",
              "    </tr>\n",
              "  </thead>\n",
              "  <tbody>\n",
              "    <tr>\n",
              "      <th>0</th>\n",
              "      <td>1.52101</td>\n",
              "      <td>13.64</td>\n",
              "      <td>4.49</td>\n",
              "      <td>1.10</td>\n",
              "      <td>71.78</td>\n",
              "      <td>0.06</td>\n",
              "      <td>8.75</td>\n",
              "      <td>0.00</td>\n",
              "      <td>0.0</td>\n",
              "      <td>1</td>\n",
              "    </tr>\n",
              "    <tr>\n",
              "      <th>1</th>\n",
              "      <td>1.51761</td>\n",
              "      <td>13.89</td>\n",
              "      <td>3.60</td>\n",
              "      <td>1.36</td>\n",
              "      <td>72.73</td>\n",
              "      <td>0.48</td>\n",
              "      <td>7.83</td>\n",
              "      <td>0.00</td>\n",
              "      <td>0.0</td>\n",
              "      <td>1</td>\n",
              "    </tr>\n",
              "    <tr>\n",
              "      <th>2</th>\n",
              "      <td>1.51618</td>\n",
              "      <td>13.53</td>\n",
              "      <td>3.55</td>\n",
              "      <td>1.54</td>\n",
              "      <td>72.99</td>\n",
              "      <td>0.39</td>\n",
              "      <td>7.78</td>\n",
              "      <td>0.00</td>\n",
              "      <td>0.0</td>\n",
              "      <td>1</td>\n",
              "    </tr>\n",
              "    <tr>\n",
              "      <th>3</th>\n",
              "      <td>1.51766</td>\n",
              "      <td>13.21</td>\n",
              "      <td>3.69</td>\n",
              "      <td>1.29</td>\n",
              "      <td>72.61</td>\n",
              "      <td>0.57</td>\n",
              "      <td>8.22</td>\n",
              "      <td>0.00</td>\n",
              "      <td>0.0</td>\n",
              "      <td>1</td>\n",
              "    </tr>\n",
              "    <tr>\n",
              "      <th>4</th>\n",
              "      <td>1.51742</td>\n",
              "      <td>13.27</td>\n",
              "      <td>3.62</td>\n",
              "      <td>1.24</td>\n",
              "      <td>73.08</td>\n",
              "      <td>0.55</td>\n",
              "      <td>8.07</td>\n",
              "      <td>0.00</td>\n",
              "      <td>0.0</td>\n",
              "      <td>1</td>\n",
              "    </tr>\n",
              "    <tr>\n",
              "      <th>...</th>\n",
              "      <td>...</td>\n",
              "      <td>...</td>\n",
              "      <td>...</td>\n",
              "      <td>...</td>\n",
              "      <td>...</td>\n",
              "      <td>...</td>\n",
              "      <td>...</td>\n",
              "      <td>...</td>\n",
              "      <td>...</td>\n",
              "      <td>...</td>\n",
              "    </tr>\n",
              "    <tr>\n",
              "      <th>209</th>\n",
              "      <td>1.51623</td>\n",
              "      <td>14.14</td>\n",
              "      <td>0.00</td>\n",
              "      <td>2.88</td>\n",
              "      <td>72.61</td>\n",
              "      <td>0.08</td>\n",
              "      <td>9.18</td>\n",
              "      <td>1.06</td>\n",
              "      <td>0.0</td>\n",
              "      <td>7</td>\n",
              "    </tr>\n",
              "    <tr>\n",
              "      <th>210</th>\n",
              "      <td>1.51685</td>\n",
              "      <td>14.92</td>\n",
              "      <td>0.00</td>\n",
              "      <td>1.99</td>\n",
              "      <td>73.06</td>\n",
              "      <td>0.00</td>\n",
              "      <td>8.40</td>\n",
              "      <td>1.59</td>\n",
              "      <td>0.0</td>\n",
              "      <td>7</td>\n",
              "    </tr>\n",
              "    <tr>\n",
              "      <th>211</th>\n",
              "      <td>1.52065</td>\n",
              "      <td>14.36</td>\n",
              "      <td>0.00</td>\n",
              "      <td>2.02</td>\n",
              "      <td>73.42</td>\n",
              "      <td>0.00</td>\n",
              "      <td>8.44</td>\n",
              "      <td>1.64</td>\n",
              "      <td>0.0</td>\n",
              "      <td>7</td>\n",
              "    </tr>\n",
              "    <tr>\n",
              "      <th>212</th>\n",
              "      <td>1.51651</td>\n",
              "      <td>14.38</td>\n",
              "      <td>0.00</td>\n",
              "      <td>1.94</td>\n",
              "      <td>73.61</td>\n",
              "      <td>0.00</td>\n",
              "      <td>8.48</td>\n",
              "      <td>1.57</td>\n",
              "      <td>0.0</td>\n",
              "      <td>7</td>\n",
              "    </tr>\n",
              "    <tr>\n",
              "      <th>213</th>\n",
              "      <td>1.51711</td>\n",
              "      <td>14.23</td>\n",
              "      <td>0.00</td>\n",
              "      <td>2.08</td>\n",
              "      <td>73.36</td>\n",
              "      <td>0.00</td>\n",
              "      <td>8.62</td>\n",
              "      <td>1.67</td>\n",
              "      <td>0.0</td>\n",
              "      <td>7</td>\n",
              "    </tr>\n",
              "  </tbody>\n",
              "</table>\n",
              "<p>214 rows × 10 columns</p>\n",
              "</div>"
            ],
            "text/plain": [
              "          RI     Na    Mg    Al     Si     K    Ca    Ba   Fe  Type\n",
              "0    1.52101  13.64  4.49  1.10  71.78  0.06  8.75  0.00  0.0     1\n",
              "1    1.51761  13.89  3.60  1.36  72.73  0.48  7.83  0.00  0.0     1\n",
              "2    1.51618  13.53  3.55  1.54  72.99  0.39  7.78  0.00  0.0     1\n",
              "3    1.51766  13.21  3.69  1.29  72.61  0.57  8.22  0.00  0.0     1\n",
              "4    1.51742  13.27  3.62  1.24  73.08  0.55  8.07  0.00  0.0     1\n",
              "..       ...    ...   ...   ...    ...   ...   ...   ...  ...   ...\n",
              "209  1.51623  14.14  0.00  2.88  72.61  0.08  9.18  1.06  0.0     7\n",
              "210  1.51685  14.92  0.00  1.99  73.06  0.00  8.40  1.59  0.0     7\n",
              "211  1.52065  14.36  0.00  2.02  73.42  0.00  8.44  1.64  0.0     7\n",
              "212  1.51651  14.38  0.00  1.94  73.61  0.00  8.48  1.57  0.0     7\n",
              "213  1.51711  14.23  0.00  2.08  73.36  0.00  8.62  1.67  0.0     7\n",
              "\n",
              "[214 rows x 10 columns]"
            ]
          },
          "metadata": {
            "tags": []
          },
          "execution_count": 54
        }
      ]
    },
    {
      "cell_type": "code",
      "metadata": {
        "id": "BH0nDRIneeEo",
        "colab_type": "code",
        "colab": {
          "base_uri": "https://localhost:8080/",
          "height": 136
        },
        "outputId": "efb0ccab-0f9c-4fd5-8b53-102daea94b35"
      },
      "source": [
        "df['Type'].value_counts() "
      ],
      "execution_count": 55,
      "outputs": [
        {
          "output_type": "execute_result",
          "data": {
            "text/plain": [
              "2    76\n",
              "1    70\n",
              "7    29\n",
              "3    17\n",
              "5    13\n",
              "6     9\n",
              "Name: Type, dtype: int64"
            ]
          },
          "metadata": {
            "tags": []
          },
          "execution_count": 55
        }
      ]
    },
    {
      "cell_type": "code",
      "metadata": {
        "id": "8b3XIoy0DAEW",
        "colab_type": "code",
        "colab": {
          "base_uri": "https://localhost:8080/",
          "height": 306
        },
        "outputId": "57d26ff9-e625-4f31-8089-82ce07f93fd0"
      },
      "source": [
        "df.info()"
      ],
      "execution_count": 77,
      "outputs": [
        {
          "output_type": "stream",
          "text": [
            "<class 'pandas.core.frame.DataFrame'>\n",
            "RangeIndex: 214 entries, 0 to 213\n",
            "Data columns (total 10 columns):\n",
            " #   Column  Non-Null Count  Dtype  \n",
            "---  ------  --------------  -----  \n",
            " 0   RI      214 non-null    float64\n",
            " 1   Na      214 non-null    float64\n",
            " 2   Mg      214 non-null    float64\n",
            " 3   Al      214 non-null    float64\n",
            " 4   Si      214 non-null    float64\n",
            " 5   K       214 non-null    float64\n",
            " 6   Ca      214 non-null    float64\n",
            " 7   Ba      214 non-null    float64\n",
            " 8   Fe      214 non-null    float64\n",
            " 9   Type    214 non-null    object \n",
            "dtypes: float64(9), object(1)\n",
            "memory usage: 16.8+ KB\n"
          ],
          "name": "stdout"
        }
      ]
    },
    {
      "cell_type": "code",
      "metadata": {
        "id": "vQiIyQ0NC-Hh",
        "colab_type": "code",
        "colab": {
          "base_uri": "https://localhost:8080/",
          "height": 204
        },
        "outputId": "e8ea304c-4fa8-4168-ea77-25f481a8f51f"
      },
      "source": [
        "df.isnull().sum()"
      ],
      "execution_count": 76,
      "outputs": [
        {
          "output_type": "execute_result",
          "data": {
            "text/plain": [
              "RI      0\n",
              "Na      0\n",
              "Mg      0\n",
              "Al      0\n",
              "Si      0\n",
              "K       0\n",
              "Ca      0\n",
              "Ba      0\n",
              "Fe      0\n",
              "Type    0\n",
              "dtype: int64"
            ]
          },
          "metadata": {
            "tags": []
          },
          "execution_count": 76
        }
      ]
    },
    {
      "cell_type": "code",
      "metadata": {
        "id": "5ic7HaiJcrT8",
        "colab_type": "code",
        "colab": {
          "base_uri": "https://localhost:8080/",
          "height": 419
        },
        "outputId": "70de4cf9-d132-4f20-c368-e652d26fcd38"
      },
      "source": [
        "for i in range(214): # from the dataset info, (no Type 4, so readjusting next types)\n",
        "  if df.iloc[i,9] == 5:\n",
        "    df.iloc[i,9] = 4\n",
        "  elif df.iloc[i,9] == 6:\n",
        "    df.iloc[i,9] = 5\n",
        "  elif df.iloc[i,9] == 7:\n",
        "    df.iloc[i,9] = 6\n",
        "df"
      ],
      "execution_count": 56,
      "outputs": [
        {
          "output_type": "execute_result",
          "data": {
            "text/html": [
              "<div>\n",
              "<style scoped>\n",
              "    .dataframe tbody tr th:only-of-type {\n",
              "        vertical-align: middle;\n",
              "    }\n",
              "\n",
              "    .dataframe tbody tr th {\n",
              "        vertical-align: top;\n",
              "    }\n",
              "\n",
              "    .dataframe thead th {\n",
              "        text-align: right;\n",
              "    }\n",
              "</style>\n",
              "<table border=\"1\" class=\"dataframe\">\n",
              "  <thead>\n",
              "    <tr style=\"text-align: right;\">\n",
              "      <th></th>\n",
              "      <th>RI</th>\n",
              "      <th>Na</th>\n",
              "      <th>Mg</th>\n",
              "      <th>Al</th>\n",
              "      <th>Si</th>\n",
              "      <th>K</th>\n",
              "      <th>Ca</th>\n",
              "      <th>Ba</th>\n",
              "      <th>Fe</th>\n",
              "      <th>Type</th>\n",
              "    </tr>\n",
              "  </thead>\n",
              "  <tbody>\n",
              "    <tr>\n",
              "      <th>0</th>\n",
              "      <td>1.52101</td>\n",
              "      <td>13.64</td>\n",
              "      <td>4.49</td>\n",
              "      <td>1.10</td>\n",
              "      <td>71.78</td>\n",
              "      <td>0.06</td>\n",
              "      <td>8.75</td>\n",
              "      <td>0.00</td>\n",
              "      <td>0.0</td>\n",
              "      <td>1</td>\n",
              "    </tr>\n",
              "    <tr>\n",
              "      <th>1</th>\n",
              "      <td>1.51761</td>\n",
              "      <td>13.89</td>\n",
              "      <td>3.60</td>\n",
              "      <td>1.36</td>\n",
              "      <td>72.73</td>\n",
              "      <td>0.48</td>\n",
              "      <td>7.83</td>\n",
              "      <td>0.00</td>\n",
              "      <td>0.0</td>\n",
              "      <td>1</td>\n",
              "    </tr>\n",
              "    <tr>\n",
              "      <th>2</th>\n",
              "      <td>1.51618</td>\n",
              "      <td>13.53</td>\n",
              "      <td>3.55</td>\n",
              "      <td>1.54</td>\n",
              "      <td>72.99</td>\n",
              "      <td>0.39</td>\n",
              "      <td>7.78</td>\n",
              "      <td>0.00</td>\n",
              "      <td>0.0</td>\n",
              "      <td>1</td>\n",
              "    </tr>\n",
              "    <tr>\n",
              "      <th>3</th>\n",
              "      <td>1.51766</td>\n",
              "      <td>13.21</td>\n",
              "      <td>3.69</td>\n",
              "      <td>1.29</td>\n",
              "      <td>72.61</td>\n",
              "      <td>0.57</td>\n",
              "      <td>8.22</td>\n",
              "      <td>0.00</td>\n",
              "      <td>0.0</td>\n",
              "      <td>1</td>\n",
              "    </tr>\n",
              "    <tr>\n",
              "      <th>4</th>\n",
              "      <td>1.51742</td>\n",
              "      <td>13.27</td>\n",
              "      <td>3.62</td>\n",
              "      <td>1.24</td>\n",
              "      <td>73.08</td>\n",
              "      <td>0.55</td>\n",
              "      <td>8.07</td>\n",
              "      <td>0.00</td>\n",
              "      <td>0.0</td>\n",
              "      <td>1</td>\n",
              "    </tr>\n",
              "    <tr>\n",
              "      <th>...</th>\n",
              "      <td>...</td>\n",
              "      <td>...</td>\n",
              "      <td>...</td>\n",
              "      <td>...</td>\n",
              "      <td>...</td>\n",
              "      <td>...</td>\n",
              "      <td>...</td>\n",
              "      <td>...</td>\n",
              "      <td>...</td>\n",
              "      <td>...</td>\n",
              "    </tr>\n",
              "    <tr>\n",
              "      <th>209</th>\n",
              "      <td>1.51623</td>\n",
              "      <td>14.14</td>\n",
              "      <td>0.00</td>\n",
              "      <td>2.88</td>\n",
              "      <td>72.61</td>\n",
              "      <td>0.08</td>\n",
              "      <td>9.18</td>\n",
              "      <td>1.06</td>\n",
              "      <td>0.0</td>\n",
              "      <td>6</td>\n",
              "    </tr>\n",
              "    <tr>\n",
              "      <th>210</th>\n",
              "      <td>1.51685</td>\n",
              "      <td>14.92</td>\n",
              "      <td>0.00</td>\n",
              "      <td>1.99</td>\n",
              "      <td>73.06</td>\n",
              "      <td>0.00</td>\n",
              "      <td>8.40</td>\n",
              "      <td>1.59</td>\n",
              "      <td>0.0</td>\n",
              "      <td>6</td>\n",
              "    </tr>\n",
              "    <tr>\n",
              "      <th>211</th>\n",
              "      <td>1.52065</td>\n",
              "      <td>14.36</td>\n",
              "      <td>0.00</td>\n",
              "      <td>2.02</td>\n",
              "      <td>73.42</td>\n",
              "      <td>0.00</td>\n",
              "      <td>8.44</td>\n",
              "      <td>1.64</td>\n",
              "      <td>0.0</td>\n",
              "      <td>6</td>\n",
              "    </tr>\n",
              "    <tr>\n",
              "      <th>212</th>\n",
              "      <td>1.51651</td>\n",
              "      <td>14.38</td>\n",
              "      <td>0.00</td>\n",
              "      <td>1.94</td>\n",
              "      <td>73.61</td>\n",
              "      <td>0.00</td>\n",
              "      <td>8.48</td>\n",
              "      <td>1.57</td>\n",
              "      <td>0.0</td>\n",
              "      <td>6</td>\n",
              "    </tr>\n",
              "    <tr>\n",
              "      <th>213</th>\n",
              "      <td>1.51711</td>\n",
              "      <td>14.23</td>\n",
              "      <td>0.00</td>\n",
              "      <td>2.08</td>\n",
              "      <td>73.36</td>\n",
              "      <td>0.00</td>\n",
              "      <td>8.62</td>\n",
              "      <td>1.67</td>\n",
              "      <td>0.0</td>\n",
              "      <td>6</td>\n",
              "    </tr>\n",
              "  </tbody>\n",
              "</table>\n",
              "<p>214 rows × 10 columns</p>\n",
              "</div>"
            ],
            "text/plain": [
              "          RI     Na    Mg    Al     Si     K    Ca    Ba   Fe  Type\n",
              "0    1.52101  13.64  4.49  1.10  71.78  0.06  8.75  0.00  0.0     1\n",
              "1    1.51761  13.89  3.60  1.36  72.73  0.48  7.83  0.00  0.0     1\n",
              "2    1.51618  13.53  3.55  1.54  72.99  0.39  7.78  0.00  0.0     1\n",
              "3    1.51766  13.21  3.69  1.29  72.61  0.57  8.22  0.00  0.0     1\n",
              "4    1.51742  13.27  3.62  1.24  73.08  0.55  8.07  0.00  0.0     1\n",
              "..       ...    ...   ...   ...    ...   ...   ...   ...  ...   ...\n",
              "209  1.51623  14.14  0.00  2.88  72.61  0.08  9.18  1.06  0.0     6\n",
              "210  1.51685  14.92  0.00  1.99  73.06  0.00  8.40  1.59  0.0     6\n",
              "211  1.52065  14.36  0.00  2.02  73.42  0.00  8.44  1.64  0.0     6\n",
              "212  1.51651  14.38  0.00  1.94  73.61  0.00  8.48  1.57  0.0     6\n",
              "213  1.51711  14.23  0.00  2.08  73.36  0.00  8.62  1.67  0.0     6\n",
              "\n",
              "[214 rows x 10 columns]"
            ]
          },
          "metadata": {
            "tags": []
          },
          "execution_count": 56
        }
      ]
    },
    {
      "cell_type": "code",
      "metadata": {
        "id": "zp21CpVO9zv9",
        "colab_type": "code",
        "colab": {
          "base_uri": "https://localhost:8080/",
          "height": 136
        },
        "outputId": "0603bad3-e5f0-4d22-f064-8e0e02d2a7a0"
      },
      "source": [
        "s = df['Type'].value_counts() \n",
        "print(s)"
      ],
      "execution_count": 57,
      "outputs": [
        {
          "output_type": "stream",
          "text": [
            "2    76\n",
            "1    70\n",
            "6    29\n",
            "3    17\n",
            "4    13\n",
            "5     9\n",
            "Name: Type, dtype: int64\n"
          ],
          "name": "stdout"
        }
      ]
    },
    {
      "cell_type": "code",
      "metadata": {
        "id": "3z1hqO2vX2fX",
        "colab_type": "code",
        "colab": {
          "base_uri": "https://localhost:8080/",
          "height": 280
        },
        "outputId": "dba7e3e0-7a5b-4e8b-8de6-391ce0021207"
      },
      "source": [
        "graph = sns.countplot(x = 'Type',data = df)\n",
        "i = 1\n",
        "for p in graph.patches:\n",
        "  height = p.get_height()\n",
        "  width = p.get_width()\n",
        "  graph.text(p.get_x()+width/2,height+1,s[i],ha = \"center\")\n",
        "  i = i + 1\n",
        "plt.show()"
      ],
      "execution_count": 58,
      "outputs": [
        {
          "output_type": "display_data",
          "data": {
            "image/png": "[encoded data removed]",
            "text/plain": [
              "<Figure size 432x288 with 1 Axes>"
            ]
          },
          "metadata": {
            "tags": [],
            "needs_background": "light"
          }
        }
      ]
    },
    {
      "cell_type": "code",
      "metadata": {
        "id": "3xijKxWQ-j08",
        "colab_type": "code",
        "colab": {
          "base_uri": "https://localhost:8080/",
          "height": 367
        },
        "outputId": "35f86816-b42a-4071-a07d-be34e926a034"
      },
      "source": [
        "graph = plt.plot(range(214),df['Fe']) #least amount of Fe was used in Type 6 glass\n",
        "plt.show()\n",
        "count = 0\n",
        "c = 1\n",
        "for i in s:\n",
        "  count = count + i\n",
        "  print('Its Type',c,'till',count)\n",
        "  c = c + 1"
      ],
      "execution_count": 70,
      "outputs": [
        {
          "output_type": "display_data",
          "data": {
            "image/png": "[encoded data removed]",
            "text/plain": [
              "<Figure size 432x288 with 1 Axes>"
            ]
          },
          "metadata": {
            "tags": [],
            "needs_background": "light"
          }
        },
        {
          "output_type": "stream",
          "text": [
            "Its Type 1 till 76\n",
            "Its Type 2 till 146\n",
            "Its Type 3 till 175\n",
            "Its Type 4 till 192\n",
            "Its Type 5 till 205\n",
            "Its Type 6 till 214\n"
          ],
          "name": "stdout"
        }
      ]
    },
    {
      "cell_type": "code",
      "metadata": {
        "id": "hMbyGrZMYq_J",
        "colab_type": "code",
        "colab": {
          "base_uri": "https://localhost:8080/",
          "height": 367
        },
        "outputId": "c61ce827-002d-434b-b4a8-ffeb3008f5ef"
      },
      "source": [
        "graph = plt.plot(range(214),df['Ba']) #Only type 5,6 glasses are using Ba, it's being used least by other ones\n",
        "plt.show()\n",
        "count = 0\n",
        "c = 1\n",
        "for i in s:\n",
        "  count = count + i\n",
        "  print('Its Type',c,'till',count)\n",
        "  c = c + 1"
      ],
      "execution_count": 72,
      "outputs": [
        {
          "output_type": "display_data",
          "data": {
            "image/png": "[encoded data removed]",
            "text/plain": [
              "<Figure size 432x288 with 1 Axes>"
            ]
          },
          "metadata": {
            "tags": [],
            "needs_background": "light"
          }
        },
        {
          "output_type": "stream",
          "text": [
            "Its Type 1 till 76\n",
            "Its Type 2 till 146\n",
            "Its Type 3 till 175\n",
            "Its Type 4 till 192\n",
            "Its Type 5 till 205\n",
            "Its Type 6 till 214\n"
          ],
          "name": "stdout"
        }
      ]
    },
    {
      "cell_type": "code",
      "metadata": {
        "id": "yrRxPd9LcDQ9",
        "colab_type": "code",
        "colab": {
          "base_uri": "https://localhost:8080/",
          "height": 419
        },
        "outputId": "342c90c8-cb0b-47bb-863e-fb76f5ce5c4b"
      },
      "source": [
        "for i in range(214): # from the dataset info\n",
        "  if df.iloc[i,9] == 1:\n",
        "    df.iloc[i,9] = 'buildingwindowsfloatprocessed'\n",
        "  elif df.iloc[i,9] == 2:\n",
        "    df.iloc[i,9] = 'buildingwindowsnonfloatprocessed'\n",
        "  elif df.iloc[i,9] == 3:\n",
        "    df.iloc[i,9] = 'vehiclewindowsfloatprocessed'\n",
        "  elif df.iloc[i,9] == 4:\n",
        "    df.iloc[i,9] = 'containers'\n",
        "  elif df.iloc[i,9] == 5:\n",
        "    df.iloc[i,9] = 'tableware'\n",
        "  elif df.iloc[i,9] == 6:\n",
        "    df.iloc[i,9] = 'headlamps'\n",
        "df"
      ],
      "execution_count": 73,
      "outputs": [
        {
          "output_type": "execute_result",
          "data": {
            "text/html": [
              "<div>\n",
              "<style scoped>\n",
              "    .dataframe tbody tr th:only-of-type {\n",
              "        vertical-align: middle;\n",
              "    }\n",
              "\n",
              "    .dataframe tbody tr th {\n",
              "        vertical-align: top;\n",
              "    }\n",
              "\n",
              "    .dataframe thead th {\n",
              "        text-align: right;\n",
              "    }\n",
              "</style>\n",
              "<table border=\"1\" class=\"dataframe\">\n",
              "  <thead>\n",
              "    <tr style=\"text-align: right;\">\n",
              "      <th></th>\n",
              "      <th>RI</th>\n",
              "      <th>Na</th>\n",
              "      <th>Mg</th>\n",
              "      <th>Al</th>\n",
              "      <th>Si</th>\n",
              "      <th>K</th>\n",
              "      <th>Ca</th>\n",
              "      <th>Ba</th>\n",
              "      <th>Fe</th>\n",
              "      <th>Type</th>\n",
              "    </tr>\n",
              "  </thead>\n",
              "  <tbody>\n",
              "    <tr>\n",
              "      <th>0</th>\n",
              "      <td>1.52101</td>\n",
              "      <td>13.64</td>\n",
              "      <td>4.49</td>\n",
              "      <td>1.10</td>\n",
              "      <td>71.78</td>\n",
              "      <td>0.06</td>\n",
              "      <td>8.75</td>\n",
              "      <td>0.00</td>\n",
              "      <td>0.0</td>\n",
              "      <td>buildingwindowsfloatprocessed</td>\n",
              "    </tr>\n",
              "    <tr>\n",
              "      <th>1</th>\n",
              "      <td>1.51761</td>\n",
              "      <td>13.89</td>\n",
              "      <td>3.60</td>\n",
              "      <td>1.36</td>\n",
              "      <td>72.73</td>\n",
              "      <td>0.48</td>\n",
              "      <td>7.83</td>\n",
              "      <td>0.00</td>\n",
              "      <td>0.0</td>\n",
              "      <td>buildingwindowsfloatprocessed</td>\n",
              "    </tr>\n",
              "    <tr>\n",
              "      <th>2</th>\n",
              "      <td>1.51618</td>\n",
              "      <td>13.53</td>\n",
              "      <td>3.55</td>\n",
              "      <td>1.54</td>\n",
              "      <td>72.99</td>\n",
              "      <td>0.39</td>\n",
              "      <td>7.78</td>\n",
              "      <td>0.00</td>\n",
              "      <td>0.0</td>\n",
              "      <td>buildingwindowsfloatprocessed</td>\n",
              "    </tr>\n",
              "    <tr>\n",
              "      <th>3</th>\n",
              "      <td>1.51766</td>\n",
              "      <td>13.21</td>\n",
              "      <td>3.69</td>\n",
              "      <td>1.29</td>\n",
              "      <td>72.61</td>\n",
              "      <td>0.57</td>\n",
              "      <td>8.22</td>\n",
              "      <td>0.00</td>\n",
              "      <td>0.0</td>\n",
              "      <td>buildingwindowsfloatprocessed</td>\n",
              "    </tr>\n",
              "    <tr>\n",
              "      <th>4</th>\n",
              "      <td>1.51742</td>\n",
              "      <td>13.27</td>\n",
              "      <td>3.62</td>\n",
              "      <td>1.24</td>\n",
              "      <td>73.08</td>\n",
              "      <td>0.55</td>\n",
              "      <td>8.07</td>\n",
              "      <td>0.00</td>\n",
              "      <td>0.0</td>\n",
              "      <td>buildingwindowsfloatprocessed</td>\n",
              "    </tr>\n",
              "    <tr>\n",
              "      <th>...</th>\n",
              "      <td>...</td>\n",
              "      <td>...</td>\n",
              "      <td>...</td>\n",
              "      <td>...</td>\n",
              "      <td>...</td>\n",
              "      <td>...</td>\n",
              "      <td>...</td>\n",
              "      <td>...</td>\n",
              "      <td>...</td>\n",
              "      <td>...</td>\n",
              "    </tr>\n",
              "    <tr>\n",
              "      <th>209</th>\n",
              "      <td>1.51623</td>\n",
              "      <td>14.14</td>\n",
              "      <td>0.00</td>\n",
              "      <td>2.88</td>\n",
              "      <td>72.61</td>\n",
              "      <td>0.08</td>\n",
              "      <td>9.18</td>\n",
              "      <td>1.06</td>\n",
              "      <td>0.0</td>\n",
              "      <td>headlamps</td>\n",
              "    </tr>\n",
              "    <tr>\n",
              "      <th>210</th>\n",
              "      <td>1.51685</td>\n",
              "      <td>14.92</td>\n",
              "      <td>0.00</td>\n",
              "      <td>1.99</td>\n",
              "      <td>73.06</td>\n",
              "      <td>0.00</td>\n",
              "      <td>8.40</td>\n",
              "      <td>1.59</td>\n",
              "      <td>0.0</td>\n",
              "      <td>headlamps</td>\n",
              "    </tr>\n",
              "    <tr>\n",
              "      <th>211</th>\n",
              "      <td>1.52065</td>\n",
              "      <td>14.36</td>\n",
              "      <td>0.00</td>\n",
              "      <td>2.02</td>\n",
              "      <td>73.42</td>\n",
              "      <td>0.00</td>\n",
              "      <td>8.44</td>\n",
              "      <td>1.64</td>\n",
              "      <td>0.0</td>\n",
              "      <td>headlamps</td>\n",
              "    </tr>\n",
              "    <tr>\n",
              "      <th>212</th>\n",
              "      <td>1.51651</td>\n",
              "      <td>14.38</td>\n",
              "      <td>0.00</td>\n",
              "      <td>1.94</td>\n",
              "      <td>73.61</td>\n",
              "      <td>0.00</td>\n",
              "      <td>8.48</td>\n",
              "      <td>1.57</td>\n",
              "      <td>0.0</td>\n",
              "      <td>headlamps</td>\n",
              "    </tr>\n",
              "    <tr>\n",
              "      <th>213</th>\n",
              "      <td>1.51711</td>\n",
              "      <td>14.23</td>\n",
              "      <td>0.00</td>\n",
              "      <td>2.08</td>\n",
              "      <td>73.36</td>\n",
              "      <td>0.00</td>\n",
              "      <td>8.62</td>\n",
              "      <td>1.67</td>\n",
              "      <td>0.0</td>\n",
              "      <td>headlamps</td>\n",
              "    </tr>\n",
              "  </tbody>\n",
              "</table>\n",
              "<p>214 rows × 10 columns</p>\n",
              "</div>"
            ],
            "text/plain": [
              "          RI     Na    Mg    Al  ...    Ca    Ba   Fe                           Type\n",
              "0    1.52101  13.64  4.49  1.10  ...  8.75  0.00  0.0  buildingwindowsfloatprocessed\n",
              "1    1.51761  13.89  3.60  1.36  ...  7.83  0.00  0.0  buildingwindowsfloatprocessed\n",
              "2    1.51618  13.53  3.55  1.54  ...  7.78  0.00  0.0  buildingwindowsfloatprocessed\n",
              "3    1.51766  13.21  3.69  1.29  ...  8.22  0.00  0.0  buildingwindowsfloatprocessed\n",
              "4    1.51742  13.27  3.62  1.24  ...  8.07  0.00  0.0  buildingwindowsfloatprocessed\n",
              "..       ...    ...   ...   ...  ...   ...   ...  ...                            ...\n",
              "209  1.51623  14.14  0.00  2.88  ...  9.18  1.06  0.0                      headlamps\n",
              "210  1.51685  14.92  0.00  1.99  ...  8.40  1.59  0.0                      headlamps\n",
              "211  1.52065  14.36  0.00  2.02  ...  8.44  1.64  0.0                      headlamps\n",
              "212  1.51651  14.38  0.00  1.94  ...  8.48  1.57  0.0                      headlamps\n",
              "213  1.51711  14.23  0.00  2.08  ...  8.62  1.67  0.0                      headlamps\n",
              "\n",
              "[214 rows x 10 columns]"
            ]
          },
          "metadata": {
            "tags": []
          },
          "execution_count": 73
        }
      ]
    },
    {
      "cell_type": "code",
      "metadata": {
        "id": "bLKrGwnOZLe1",
        "colab_type": "code",
        "colab": {
          "base_uri": "https://localhost:8080/",
          "height": 34
        },
        "outputId": "2abd75df-9c51-4f47-ed0c-e598476493a8"
      },
      "source": [
        "df.columns"
      ],
      "execution_count": 11,
      "outputs": [
        {
          "output_type": "execute_result",
          "data": {
            "text/plain": [
              "Index(['RI', 'Na', 'Mg', 'Al', 'Si', 'K', 'Ca', 'Ba', 'Fe', 'Type'], dtype='object')"
            ]
          },
          "metadata": {
            "tags": []
          },
          "execution_count": 11
        }
      ]
    },
    {
      "cell_type": "code",
      "metadata": {
        "id": "Dk1g2bB8ZO3-",
        "colab_type": "code",
        "colab": {
          "base_uri": "https://localhost:8080/",
          "height": 68
        },
        "outputId": "1b9045ea-9401-4812-e3ad-dee4798838a4"
      },
      "source": [
        "df['Type'].unique()"
      ],
      "execution_count": 12,
      "outputs": [
        {
          "output_type": "execute_result",
          "data": {
            "text/plain": [
              "array(['buildingwindowsfloatprocessed',\n",
              "       'buildingwindowsnonfloatprocessed', 'vehiclewindowsfloatprocessed',\n",
              "       'containers', 'tableware', 'headlamps'], dtype=object)"
            ]
          },
          "metadata": {
            "tags": []
          },
          "execution_count": 12
        }
      ]
    },
    {
      "cell_type": "code",
      "metadata": {
        "id": "dVPkQKtSZVaH",
        "colab_type": "code",
        "colab": {}
      },
      "source": [
        "# Classical Regression using KNN\n",
        "x = df.iloc[:,0:9].values\n",
        "y = df.iloc[:,9].values"
      ],
      "execution_count": 78,
      "outputs": []
    },
    {
      "cell_type": "code",
      "metadata": {
        "id": "hK__QsG6Zo1c",
        "colab_type": "code",
        "colab": {}
      },
      "source": [
        "from sklearn.model_selection import train_test_split\n",
        "x_train,x_test,y_train,y_test = train_test_split(x,y, random_state = 5) "
      ],
      "execution_count": 79,
      "outputs": []
    },
    {
      "cell_type": "code",
      "metadata": {
        "id": "Nh042WQ-bviA",
        "colab_type": "code",
        "colab": {}
      },
      "source": [
        "from sklearn.preprocessing import MinMaxScaler\n",
        "scaler = MinMaxScaler()\n",
        "x_train = scaler.fit_transform(x_train)\n",
        "x_test = scaler.transform(x_test)"
      ],
      "execution_count": 80,
      "outputs": []
    },
    {
      "cell_type": "code",
      "metadata": {
        "id": "Oku_GDofZqSm",
        "colab_type": "code",
        "colab": {}
      },
      "source": [
        "from sklearn.neighbors import KNeighborsClassifier"
      ],
      "execution_count": 81,
      "outputs": []
    },
    {
      "cell_type": "code",
      "metadata": {
        "id": "L7vj4iwBaEPB",
        "colab_type": "code",
        "colab": {
          "base_uri": "https://localhost:8080/",
          "height": 34
        },
        "outputId": "a3eddb42-22e9-48c5-ec82-23c901e522ef"
      },
      "source": [
        "x_train.shape"
      ],
      "execution_count": 82,
      "outputs": [
        {
          "output_type": "execute_result",
          "data": {
            "text/plain": [
              "(160, 9)"
            ]
          },
          "metadata": {
            "tags": []
          },
          "execution_count": 82
        }
      ]
    },
    {
      "cell_type": "code",
      "metadata": {
        "id": "QBxgjkepaG0h",
        "colab_type": "code",
        "colab": {}
      },
      "source": [
        "model = KNeighborsClassifier(n_neighbors=2)"
      ],
      "execution_count": 83,
      "outputs": []
    },
    {
      "cell_type": "code",
      "metadata": {
        "id": "d600Z-JBaVW2",
        "colab_type": "code",
        "colab": {
          "base_uri": "https://localhost:8080/",
          "height": 646
        },
        "outputId": "cfbe67d3-a8ae-49a3-89ab-5a2645fe16c9"
      },
      "source": [
        "model.fit(x_train,y_train)\n",
        "y_pred = model.predict(x_test)\n",
        "y_pred # pedicted"
      ],
      "execution_count": 84,
      "outputs": [
        {
          "output_type": "execute_result",
          "data": {
            "text/plain": [
              "array(['buildingwindowsfloatprocessed', 'buildingwindowsfloatprocessed',\n",
              "       'buildingwindowsnonfloatprocessed',\n",
              "       'buildingwindowsnonfloatprocessed',\n",
              "       'buildingwindowsfloatprocessed', 'headlamps', 'headlamps',\n",
              "       'buildingwindowsfloatprocessed', 'buildingwindowsfloatprocessed',\n",
              "       'buildingwindowsnonfloatprocessed',\n",
              "       'buildingwindowsnonfloatprocessed',\n",
              "       'buildingwindowsfloatprocessed',\n",
              "       'buildingwindowsnonfloatprocessed',\n",
              "       'buildingwindowsfloatprocessed', 'buildingwindowsfloatprocessed',\n",
              "       'buildingwindowsfloatprocessed',\n",
              "       'buildingwindowsnonfloatprocessed', 'headlamps',\n",
              "       'buildingwindowsnonfloatprocessed',\n",
              "       'buildingwindowsnonfloatprocessed',\n",
              "       'buildingwindowsfloatprocessed',\n",
              "       'buildingwindowsnonfloatprocessed',\n",
              "       'buildingwindowsnonfloatprocessed',\n",
              "       'buildingwindowsnonfloatprocessed',\n",
              "       'buildingwindowsnonfloatprocessed',\n",
              "       'buildingwindowsfloatprocessed', 'buildingwindowsfloatprocessed',\n",
              "       'headlamps', 'buildingwindowsnonfloatprocessed',\n",
              "       'buildingwindowsfloatprocessed', 'containers',\n",
              "       'buildingwindowsfloatprocessed',\n",
              "       'buildingwindowsnonfloatprocessed', 'headlamps',\n",
              "       'buildingwindowsfloatprocessed', 'tableware',\n",
              "       'buildingwindowsnonfloatprocessed', 'containers',\n",
              "       'buildingwindowsfloatprocessed',\n",
              "       'buildingwindowsnonfloatprocessed',\n",
              "       'buildingwindowsfloatprocessed', 'buildingwindowsfloatprocessed',\n",
              "       'buildingwindowsfloatprocessed', 'buildingwindowsfloatprocessed',\n",
              "       'buildingwindowsfloatprocessed', 'buildingwindowsfloatprocessed',\n",
              "       'buildingwindowsfloatprocessed',\n",
              "       'buildingwindowsnonfloatprocessed',\n",
              "       'buildingwindowsnonfloatprocessed',\n",
              "       'buildingwindowsnonfloatprocessed', 'headlamps', 'headlamps',\n",
              "       'buildingwindowsnonfloatprocessed', 'vehiclewindowsfloatprocessed'],\n",
              "      dtype=object)"
            ]
          },
          "metadata": {
            "tags": []
          },
          "execution_count": 84
        }
      ]
    },
    {
      "cell_type": "code",
      "metadata": {
        "id": "JrD4v9E9aalN",
        "colab_type": "code",
        "colab": {
          "base_uri": "https://localhost:8080/",
          "height": 34
        },
        "outputId": "f5304cba-60ec-4234-91bc-202a0a59b0b7"
      },
      "source": [
        "from sklearn.metrics import accuracy_score\n",
        "accuracy_score(y_test,y_pred)*100"
      ],
      "execution_count": 85,
      "outputs": [
        {
          "output_type": "execute_result",
          "data": {
            "text/plain": [
              "75.92592592592592"
            ]
          },
          "metadata": {
            "tags": []
          },
          "execution_count": 85
        }
      ]
    },
    {
      "cell_type": "code",
      "metadata": {
        "id": "oO7nbc2Bae47",
        "colab_type": "code",
        "colab": {
          "base_uri": "https://localhost:8080/",
          "height": 119
        },
        "outputId": "b1f7965e-8d28-48f7-f95c-a863cb9066dc"
      },
      "source": [
        "from sklearn.metrics import confusion_matrix\n",
        "confusion_matrix(y_test,y_pred)"
      ],
      "execution_count": 86,
      "outputs": [
        {
          "output_type": "execute_result",
          "data": {
            "text/plain": [
              "array([[18,  3,  0,  0,  0,  0],\n",
              "       [ 3, 13,  1,  0,  0,  0],\n",
              "       [ 0,  0,  1,  0,  0,  0],\n",
              "       [ 0,  2,  0,  7,  0,  0],\n",
              "       [ 1,  0,  0,  0,  1,  0],\n",
              "       [ 1,  2,  0,  0,  0,  1]])"
            ]
          },
          "metadata": {
            "tags": []
          },
          "execution_count": 86
        }
      ]
    },
    {
      "cell_type": "code",
      "metadata": {
        "id": "9VVU5Nt4cgxJ",
        "colab_type": "code",
        "colab": {
          "base_uri": "https://localhost:8080/",
          "height": 238
        },
        "outputId": "cd2f6348-2659-45a1-f28b-fe26f0759a5d"
      },
      "source": [
        "from sklearn.metrics import classification_report\n",
        "print(classification_report(y_test,y_pred))"
      ],
      "execution_count": 87,
      "outputs": [
        {
          "output_type": "stream",
          "text": [
            "                                  precision    recall  f1-score   support\n",
            "\n",
            "   buildingwindowsfloatprocessed       0.78      0.86      0.82        21\n",
            "buildingwindowsnonfloatprocessed       0.65      0.76      0.70        17\n",
            "                      containers       0.50      1.00      0.67         1\n",
            "                       headlamps       1.00      0.78      0.88         9\n",
            "                       tableware       1.00      0.50      0.67         2\n",
            "    vehiclewindowsfloatprocessed       1.00      0.25      0.40         4\n",
            "\n",
            "                        accuracy                           0.76        54\n",
            "                       macro avg       0.82      0.69      0.69        54\n",
            "                    weighted avg       0.80      0.76      0.75        54\n",
            "\n"
          ],
          "name": "stdout"
        }
      ]
    },
    {
      "cell_type": "code",
      "metadata": {
        "id": "IZAbJd_OamvM",
        "colab_type": "code",
        "colab": {
          "base_uri": "https://localhost:8080/",
          "height": 119
        },
        "outputId": "8b7aa3c7-870e-432c-bf21-3fdc5a434655"
      },
      "source": [
        "'buildingwindowsfloatprocessed','buildingwindowsnonfloatprocessed', 'vehiclewindowsfloatprocessed','containers', 'tableware', 'headlamps'"
      ],
      "execution_count": 23,
      "outputs": [
        {
          "output_type": "execute_result",
          "data": {
            "text/plain": [
              "('buildingwindowsfloatprocessed',\n",
              " 'buildingwindowsnonfloatprocessed',\n",
              " 'vehiclewindowsfloatprocessed',\n",
              " 'containers',\n",
              " 'tableware',\n",
              " 'headlamps')"
            ]
          },
          "metadata": {
            "tags": []
          },
          "execution_count": 23
        }
      ]
    },
    {
      "cell_type": "code",
      "metadata": {
        "id": "J-wES338bXhs",
        "colab_type": "code",
        "colab": {}
      },
      "source": [
        "# 1 - 72\n",
        "# r5 - k2 - 75"
      ],
      "execution_count": 24,
      "outputs": []
    },
    {
      "cell_type": "code",
      "metadata": {
        "id": "OqT14Z8DcS0J",
        "colab_type": "code",
        "colab": {}
      },
      "source": [
        "# Multiple Linear regression (to find the refractive index based on the element composition and proportion)\n",
        "x = df.iloc[:,1:9].values\n",
        "y = df.iloc[:,0].values"
      ],
      "execution_count": 88,
      "outputs": []
    },
    {
      "cell_type": "code",
      "metadata": {
        "id": "2ZIxiP_4e2ds",
        "colab_type": "code",
        "colab": {
          "base_uri": "https://localhost:8080/",
          "height": 136
        },
        "outputId": "f45439e2-c183-4879-f68a-a80e48230b5d"
      },
      "source": [
        "x_train,x_test,y_train,y_test = train_test_split(x,y, random_state = 5) \n",
        "x_train"
      ],
      "execution_count": 89,
      "outputs": [
        {
          "output_type": "execute_result",
          "data": {
            "text/plain": [
              "array([[13.42,  3.4 ,  1.22, ...,  8.32,  0.  ,  0.  ],\n",
              "       [13.72,  3.72,  0.51, ..., 10.06,  0.  ,  0.16],\n",
              "       [14.23,  0.  ,  2.08, ...,  8.62,  1.67,  0.  ],\n",
              "       ...,\n",
              "       [15.79,  1.83,  1.31, ...,  8.61,  1.68,  0.  ],\n",
              "       [14.94,  0.  ,  1.87, ...,  8.67,  1.38,  0.  ],\n",
              "       [12.96,  2.96,  1.43, ...,  8.79,  0.14,  0.  ]])"
            ]
          },
          "metadata": {
            "tags": []
          },
          "execution_count": 89
        }
      ]
    },
    {
      "cell_type": "code",
      "metadata": {
        "id": "D9NSa2JKfCL7",
        "colab_type": "code",
        "colab": {
          "base_uri": "https://localhost:8080/",
          "height": 204
        },
        "outputId": "e411ea1e-62db-43ec-8b3c-bb1c2167d7a6"
      },
      "source": [
        "from sklearn.linear_model import LinearRegression\n",
        "model = LinearRegression()\n",
        "model.fit(x_train,y_train)\n",
        "y_pred = model.predict(x_test)\n",
        "y_pred # predicted o/p"
      ],
      "execution_count": 90,
      "outputs": [
        {
          "output_type": "execute_result",
          "data": {
            "text/plain": [
              "array([1.52121663, 1.51820505, 1.51469021, 1.51866964, 1.51754801,\n",
              "       1.51422887, 1.51649854, 1.51711929, 1.51721288, 1.5198967 ,\n",
              "       1.52121226, 1.5178281 , 1.51605678, 1.51715827, 1.51790131,\n",
              "       1.51779903, 1.51665669, 1.51582436, 1.51680802, 1.52040831,\n",
              "       1.51826063, 1.51761596, 1.51647345, 1.51679832, 1.51874743,\n",
              "       1.51863554, 1.51968116, 1.51706412, 1.51696469, 1.51729767,\n",
              "       1.51401014, 1.52223384, 1.51748295, 1.51776506, 1.51794925,\n",
              "       1.51148535, 1.51390986, 1.5216368 , 1.51838901, 1.51797862,\n",
              "       1.52055668, 1.5212191 , 1.51738411, 1.52232835, 1.51753264,\n",
              "       1.51824309, 1.51952598, 1.51898407, 1.51830972, 1.51993156,\n",
              "       1.51563543, 1.51552781, 1.51777723, 1.51824262])"
            ]
          },
          "metadata": {
            "tags": []
          },
          "execution_count": 90
        }
      ]
    },
    {
      "cell_type": "code",
      "metadata": {
        "id": "XjPEDWHufPvc",
        "colab_type": "code",
        "colab": {
          "base_uri": "https://localhost:8080/",
          "height": 34
        },
        "outputId": "435ac122-b5ce-44f6-db84-fb972bcd4f1a"
      },
      "source": [
        "from sklearn import metrics\n",
        "metrics.mean_squared_error(y_test,y_pred)"
      ],
      "execution_count": 91,
      "outputs": [
        {
          "output_type": "execute_result",
          "data": {
            "text/plain": [
              "1.0342702942874938e-06"
            ]
          },
          "metadata": {
            "tags": []
          },
          "execution_count": 91
        }
      ]
    },
    {
      "cell_type": "code",
      "metadata": {
        "id": "yGKbEARVfU-T",
        "colab_type": "code",
        "colab": {
          "base_uri": "https://localhost:8080/",
          "height": 34
        },
        "outputId": "6782bebe-959a-47ef-92f2-5975422d80d8"
      },
      "source": [
        "metrics.r2_score(y_test,y_pred)"
      ],
      "execution_count": 92,
      "outputs": [
        {
          "output_type": "execute_result",
          "data": {
            "text/plain": [
              "0.8205534470258127"
            ]
          },
          "metadata": {
            "tags": []
          },
          "execution_count": 92
        }
      ]
    },
    {
      "cell_type": "code",
      "metadata": {
        "id": "vK41SJTP5Kz9",
        "colab_type": "code",
        "colab": {
          "base_uri": "https://localhost:8080/",
          "height": 513
        },
        "outputId": "9ac1a2e7-cb7d-4810-9e45-52a18dba6ddd"
      },
      "source": [
        "# using grid search cv to find best parameters for ridge regresssion\n",
        "from sklearn.model_selection import GridSearchCV\n",
        "from sklearn.linear_model import Ridge\n",
        "parameters = {'alpha':[10**-5,10**-4,10**-3,10**-2,10**-1,1,10**1,10**2,10**3,10**4,10**5]}\n",
        "ridge = Ridge()\n",
        "clf = GridSearchCV(ridge, parameters, cv = 5, scoring='neg_mean_squared_error')\n",
        "clf.fit(x,y)\n",
        "print(clf.cv_results_)"
      ],
      "execution_count": 93,
      "outputs": [
        {
          "output_type": "stream",
          "text": [
            "{'mean_fit_time': array([0.00112805, 0.0007061 , 0.00052285, 0.000494  , 0.0005168 ,\n",
            "       0.00051093, 0.00051475, 0.00050058, 0.00050187, 0.00050116,\n",
            "       0.00050859]), 'std_fit_time': array([2.17937149e-04, 1.71882606e-04, 2.13162744e-05, 1.01253538e-05,\n",
            "       2.74670620e-05, 8.10903613e-06, 2.40866492e-05, 1.62437082e-05,\n",
            "       2.23315625e-05, 1.14847494e-05, 2.15187264e-05]), 'mean_score_time': array([0.00059047, 0.00053897, 0.00031877, 0.00032578, 0.00031462,\n",
            "       0.00030398, 0.00031366, 0.00032701, 0.00033016, 0.00031896,\n",
            "       0.00031037]), 'std_score_time': array([6.91002033e-05, 2.12411264e-04, 1.45126233e-05, 2.10962588e-05,\n",
            "       1.66050282e-05, 5.48466382e-06, 1.50469137e-05, 2.58173747e-05,\n",
            "       2.00659512e-05, 1.40220937e-05, 9.44017152e-06]), 'param_alpha': masked_array(data=[1e-05, 0.0001, 0.001, 0.01, 0.1, 1, 10, 100, 1000,\n",
            "                   10000, 100000],\n",
            "             mask=[False, False, False, False, False, False, False, False,\n",
            "                   False, False, False],\n",
            "       fill_value='?',\n",
            "            dtype=object), 'params': [{'alpha': 1e-05}, {'alpha': 0.0001}, {'alpha': 0.001}, {'alpha': 0.01}, {'alpha': 0.1}, {'alpha': 1}, {'alpha': 10}, {'alpha': 100}, {'alpha': 1000}, {'alpha': 10000}, {'alpha': 100000}], 'split0_test_score': array([-3.52574134e-07, -3.52572680e-07, -3.52558442e-07, -3.52444342e-07,\n",
            "       -3.52863243e-07, -3.59526286e-07, -3.52071318e-07, -5.67893539e-07,\n",
            "       -1.65804400e-06, -2.32747692e-06, -2.43837009e-06]), 'split1_test_score': array([-1.25146510e-06, -1.25148245e-06, -1.25165547e-06, -1.25333888e-06,\n",
            "       -1.26648593e-06, -1.30588235e-06, -1.45409055e-06, -2.61861943e-06,\n",
            "       -6.10953076e-06, -7.95234503e-06, -8.22920138e-06]), 'split2_test_score': array([-7.51207489e-07, -7.51214475e-07, -7.51284341e-07, -7.51982702e-07,\n",
            "       -7.58193130e-07, -7.69285229e-07, -9.80486893e-07, -4.97217311e-06,\n",
            "       -1.65709269e-05, -2.12647543e-05, -2.18693417e-05]), 'split3_test_score': array([-8.14049906e-07, -8.14039147e-07, -8.13933465e-07, -8.13051657e-07,\n",
            "       -8.12846543e-07, -8.33218674e-07, -8.35341452e-07, -1.05730101e-06,\n",
            "       -3.36281761e-06, -5.40565429e-06, -5.74964018e-06]), 'split4_test_score': array([-3.59590957e-06, -3.59599715e-06, -3.59687034e-06, -3.60535072e-06,\n",
            "       -3.67062590e-06, -3.82911022e-06, -3.47544530e-06, -4.18822014e-06,\n",
            "       -7.85817687e-06, -8.84748431e-06, -9.00483323e-06]), 'mean_test_score': array([-1.35304124e-06, -1.35306118e-06, -1.35326041e-06, -1.35523366e-06,\n",
            "       -1.37220295e-06, -1.41940455e-06, -1.41948710e-06, -2.68084145e-06,\n",
            "       -7.11189922e-06, -9.15954297e-06, -9.45827733e-06]), 'std_test_score': array([1.15710207e-06, 1.15713625e-06, 1.15747676e-06, 1.16076430e-06,\n",
            "       1.18514684e-06, 1.24170686e-06, 1.08641477e-06, 1.71036226e-06,\n",
            "       5.19297654e-06, 6.46312086e-06, 6.61488997e-06]), 'rank_test_score': array([ 1,  2,  3,  4,  5,  6,  7,  8,  9, 10, 11], dtype=int32)}\n"
          ],
          "name": "stdout"
        }
      ]
    },
    {
      "cell_type": "code",
      "metadata": {
        "id": "fTTJaXNl5UfK",
        "colab_type": "code",
        "colab": {
          "base_uri": "https://localhost:8080/",
          "height": 51
        },
        "outputId": "8d83d712-9da1-4efb-b080-62f7c4612c26"
      },
      "source": [
        "clf.best_estimator_ # best parameters"
      ],
      "execution_count": 94,
      "outputs": [
        {
          "output_type": "execute_result",
          "data": {
            "text/plain": [
              "Ridge(alpha=1e-05, copy_X=True, fit_intercept=True, max_iter=None,\n",
              "      normalize=False, random_state=None, solver='auto', tol=0.001)"
            ]
          },
          "metadata": {
            "tags": []
          },
          "execution_count": 94
        }
      ]
    },
    {
      "cell_type": "code",
      "metadata": {
        "id": "UYLimzKr5Upb",
        "colab_type": "code",
        "colab": {
          "base_uri": "https://localhost:8080/",
          "height": 34
        },
        "outputId": "ab6a1591-18ca-4666-c41c-3ba572f26712"
      },
      "source": [
        "# training on ridge regression with best parameters and finding MSE(mean squared error)\n",
        "from sklearn.model_selection import cross_val_score\n",
        "mod = clf.best_estimator_\n",
        "mse = cross_val_score(mod,x,y,scoring = 'neg_mean_squared_error',cv = 5)\n",
        "mean_mse = np.mean(mse)\n",
        "print(mean_mse)"
      ],
      "execution_count": 95,
      "outputs": [
        {
          "output_type": "stream",
          "text": [
            "-1.3530412399429503e-06\n"
          ],
          "name": "stdout"
        }
      ]
    },
    {
      "cell_type": "code",
      "metadata": {
        "id": "-f5yVoFjfYwj",
        "colab_type": "code",
        "colab": {}
      },
      "source": [
        "# 1.353*(10^-6) - MSE - Ridge with Grid search CV\n",
        "# r5 - 82% - linear\n",
        "# k2 - 75% - KNN"
      ],
      "execution_count": 97,
      "outputs": []
    }
  ]
}