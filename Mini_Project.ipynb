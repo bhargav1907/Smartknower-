{
  "nbformat": 4,
  "nbformat_minor": 0,
  "metadata": {
    "colab": {
      "name": "Mini Project.ipynb",
      "provenance": [],
      "collapsed_sections": [],
      "toc_visible": true,
      "include_colab_link": true
    },
    "kernelspec": {
      "name": "python3",
      "display_name": "Python 3"
    }
  },
  "cells": [
    {
      "cell_type": "markdown",
      "metadata": {
        "id": "view-in-github",
        "colab_type": "text"
      },
      "source": [
        "<a href=\"https://colab.research.google.com/github/bhargav1907/Smartknower-/blob/master/Mini_Project.ipynb\" target=\"_parent\"><img src=\"https://colab.research.google.com/assets/colab-badge.svg\" alt=\"Open In Colab\"/></a>"
      ]
    },
    {
      "cell_type": "markdown",
      "metadata": {
        "id": "0IpgVkQgXJNt",
        "colab_type": "text"
      },
      "source": [
        "## Dataset: [Glass Classification](https://www.kaggle.com/uciml/glass)"
      ]
    },
    {
      "cell_type": "code",
      "metadata": {
        "id": "cv3BE5dTXIij",
        "colab_type": "code",
        "colab": {
          "base_uri": "https://localhost:8080/",
          "height": 71
        },
        "outputId": "7ba72510-5c50-4374-906f-e4caa957a49b"
      },
      "source": [
        "import numpy as np\n",
        "import pandas as pd\n",
        "import matplotlib.pyplot as plt\n",
        "import seaborn as sns"
      ],
      "execution_count": 1,
      "outputs": [
        {
          "output_type": "stream",
          "text": [
            "/usr/local/lib/python3.6/dist-packages/statsmodels/tools/_testing.py:19: FutureWarning: pandas.util.testing is deprecated. Use the functions in the public API at pandas.testing instead.\n",
            "  import pandas.util.testing as tm\n"
          ],
          "name": "stderr"
        }
      ]
    },
    {
      "cell_type": "code",
      "metadata": {
        "id": "QzFKBa3BXLe5",
        "colab_type": "code",
        "colab": {
          "base_uri": "https://localhost:8080/",
          "height": 54
        },
        "outputId": "765eaa9a-d3da-4ce3-e017-6272ec7c29dd"
      },
      "source": [
        "from google.colab import drive\n",
        "drive.mount('/content/drive')\n"
      ],
      "execution_count": 4,
      "outputs": [
        {
          "output_type": "stream",
          "text": [
            "Drive already mounted at /content/drive; to attempt to forcibly remount, call drive.mount(\"/content/drive\", force_remount=True).\n"
          ],
          "name": "stdout"
        }
      ]
    },
    {
      "cell_type": "code",
      "metadata": {
        "id": "yefuCuGbQ6MV",
        "colab_type": "code",
        "colab": {
          "base_uri": "https://localhost:8080/",
          "height": 419
        },
        "outputId": "29f2d820-5e11-4734-eefa-cd912fe964e7"
      },
      "source": [
        "df1 = pd.read_csv('/content/drive/My Drive/Python - SmartKnower(mine)/Machine learning Algorithms/datasets_738_1370_glass.csv')\n",
        "df = df1.copy()\n",
        "df"
      ],
      "execution_count": 5,
      "outputs": [
        {
          "output_type": "execute_result",
          "data": {
            "text/html": [
              "<div>\n",
              "<style scoped>\n",
              "    .dataframe tbody tr th:only-of-type {\n",
              "        vertical-align: middle;\n",
              "    }\n",
              "\n",
              "    .dataframe tbody tr th {\n",
              "        vertical-align: top;\n",
              "    }\n",
              "\n",
              "    .dataframe thead th {\n",
              "        text-align: right;\n",
              "    }\n",
              "</style>\n",
              "<table border=\"1\" class=\"dataframe\">\n",
              "  <thead>\n",
              "    <tr style=\"text-align: right;\">\n",
              "      <th></th>\n",
              "      <th>RI</th>\n",
              "      <th>Na</th>\n",
              "      <th>Mg</th>\n",
              "      <th>Al</th>\n",
              "      <th>Si</th>\n",
              "      <th>K</th>\n",
              "      <th>Ca</th>\n",
              "      <th>Ba</th>\n",
              "      <th>Fe</th>\n",
              "      <th>Type</th>\n",
              "    </tr>\n",
              "  </thead>\n",
              "  <tbody>\n",
              "    <tr>\n",
              "      <th>0</th>\n",
              "      <td>1.52101</td>\n",
              "      <td>13.64</td>\n",
              "      <td>4.49</td>\n",
              "      <td>1.10</td>\n",
              "      <td>71.78</td>\n",
              "      <td>0.06</td>\n",
              "      <td>8.75</td>\n",
              "      <td>0.00</td>\n",
              "      <td>0.0</td>\n",
              "      <td>1</td>\n",
              "    </tr>\n",
              "    <tr>\n",
              "      <th>1</th>\n",
              "      <td>1.51761</td>\n",
              "      <td>13.89</td>\n",
              "      <td>3.60</td>\n",
              "      <td>1.36</td>\n",
              "      <td>72.73</td>\n",
              "      <td>0.48</td>\n",
              "      <td>7.83</td>\n",
              "      <td>0.00</td>\n",
              "      <td>0.0</td>\n",
              "      <td>1</td>\n",
              "    </tr>\n",
              "    <tr>\n",
              "      <th>2</th>\n",
              "      <td>1.51618</td>\n",
              "      <td>13.53</td>\n",
              "      <td>3.55</td>\n",
              "      <td>1.54</td>\n",
              "      <td>72.99</td>\n",
              "      <td>0.39</td>\n",
              "      <td>7.78</td>\n",
              "      <td>0.00</td>\n",
              "      <td>0.0</td>\n",
              "      <td>1</td>\n",
              "    </tr>\n",
              "    <tr>\n",
              "      <th>3</th>\n",
              "      <td>1.51766</td>\n",
              "      <td>13.21</td>\n",
              "      <td>3.69</td>\n",
              "      <td>1.29</td>\n",
              "      <td>72.61</td>\n",
              "      <td>0.57</td>\n",
              "      <td>8.22</td>\n",
              "      <td>0.00</td>\n",
              "      <td>0.0</td>\n",
              "      <td>1</td>\n",
              "    </tr>\n",
              "    <tr>\n",
              "      <th>4</th>\n",
              "      <td>1.51742</td>\n",
              "      <td>13.27</td>\n",
              "      <td>3.62</td>\n",
              "      <td>1.24</td>\n",
              "      <td>73.08</td>\n",
              "      <td>0.55</td>\n",
              "      <td>8.07</td>\n",
              "      <td>0.00</td>\n",
              "      <td>0.0</td>\n",
              "      <td>1</td>\n",
              "    </tr>\n",
              "    <tr>\n",
              "      <th>...</th>\n",
              "      <td>...</td>\n",
              "      <td>...</td>\n",
              "      <td>...</td>\n",
              "      <td>...</td>\n",
              "      <td>...</td>\n",
              "      <td>...</td>\n",
              "      <td>...</td>\n",
              "      <td>...</td>\n",
              "      <td>...</td>\n",
              "      <td>...</td>\n",
              "    </tr>\n",
              "    <tr>\n",
              "      <th>209</th>\n",
              "      <td>1.51623</td>\n",
              "      <td>14.14</td>\n",
              "      <td>0.00</td>\n",
              "      <td>2.88</td>\n",
              "      <td>72.61</td>\n",
              "      <td>0.08</td>\n",
              "      <td>9.18</td>\n",
              "      <td>1.06</td>\n",
              "      <td>0.0</td>\n",
              "      <td>7</td>\n",
              "    </tr>\n",
              "    <tr>\n",
              "      <th>210</th>\n",
              "      <td>1.51685</td>\n",
              "      <td>14.92</td>\n",
              "      <td>0.00</td>\n",
              "      <td>1.99</td>\n",
              "      <td>73.06</td>\n",
              "      <td>0.00</td>\n",
              "      <td>8.40</td>\n",
              "      <td>1.59</td>\n",
              "      <td>0.0</td>\n",
              "      <td>7</td>\n",
              "    </tr>\n",
              "    <tr>\n",
              "      <th>211</th>\n",
              "      <td>1.52065</td>\n",
              "      <td>14.36</td>\n",
              "      <td>0.00</td>\n",
              "      <td>2.02</td>\n",
              "      <td>73.42</td>\n",
              "      <td>0.00</td>\n",
              "      <td>8.44</td>\n",
              "      <td>1.64</td>\n",
              "      <td>0.0</td>\n",
              "      <td>7</td>\n",
              "    </tr>\n",
              "    <tr>\n",
              "      <th>212</th>\n",
              "      <td>1.51651</td>\n",
              "      <td>14.38</td>\n",
              "      <td>0.00</td>\n",
              "      <td>1.94</td>\n",
              "      <td>73.61</td>\n",
              "      <td>0.00</td>\n",
              "      <td>8.48</td>\n",
              "      <td>1.57</td>\n",
              "      <td>0.0</td>\n",
              "      <td>7</td>\n",
              "    </tr>\n",
              "    <tr>\n",
              "      <th>213</th>\n",
              "      <td>1.51711</td>\n",
              "      <td>14.23</td>\n",
              "      <td>0.00</td>\n",
              "      <td>2.08</td>\n",
              "      <td>73.36</td>\n",
              "      <td>0.00</td>\n",
              "      <td>8.62</td>\n",
              "      <td>1.67</td>\n",
              "      <td>0.0</td>\n",
              "      <td>7</td>\n",
              "    </tr>\n",
              "  </tbody>\n",
              "</table>\n",
              "<p>214 rows × 10 columns</p>\n",
              "</div>"
            ],
            "text/plain": [
              "          RI     Na    Mg    Al     Si     K    Ca    Ba   Fe  Type\n",
              "0    1.52101  13.64  4.49  1.10  71.78  0.06  8.75  0.00  0.0     1\n",
              "1    1.51761  13.89  3.60  1.36  72.73  0.48  7.83  0.00  0.0     1\n",
              "2    1.51618  13.53  3.55  1.54  72.99  0.39  7.78  0.00  0.0     1\n",
              "3    1.51766  13.21  3.69  1.29  72.61  0.57  8.22  0.00  0.0     1\n",
              "4    1.51742  13.27  3.62  1.24  73.08  0.55  8.07  0.00  0.0     1\n",
              "..       ...    ...   ...   ...    ...   ...   ...   ...  ...   ...\n",
              "209  1.51623  14.14  0.00  2.88  72.61  0.08  9.18  1.06  0.0     7\n",
              "210  1.51685  14.92  0.00  1.99  73.06  0.00  8.40  1.59  0.0     7\n",
              "211  1.52065  14.36  0.00  2.02  73.42  0.00  8.44  1.64  0.0     7\n",
              "212  1.51651  14.38  0.00  1.94  73.61  0.00  8.48  1.57  0.0     7\n",
              "213  1.51711  14.23  0.00  2.08  73.36  0.00  8.62  1.67  0.0     7\n",
              "\n",
              "[214 rows x 10 columns]"
            ]
          },
          "metadata": {
            "tags": []
          },
          "execution_count": 5
        }
      ]
    },
    {
      "cell_type": "code",
      "metadata": {
        "id": "BH0nDRIneeEo",
        "colab_type": "code",
        "colab": {
          "base_uri": "https://localhost:8080/",
          "height": 419
        },
        "outputId": "3b279ab0-87bc-4bab-eb7d-def33b309cfc"
      },
      "source": [
        "for i in range(214): # from the dataset info\n",
        "  if df.iloc[i,9] == 5:\n",
        "    df.iloc[i,9] = 4\n",
        "  elif df.iloc[i,9] == 6:\n",
        "    df.iloc[i,9] = 5\n",
        "  elif df.iloc[i,9] == 7:\n",
        "    df.iloc[i,9] = 6\n",
        "df"
      ],
      "execution_count": 6,
      "outputs": [
        {
          "output_type": "execute_result",
          "data": {
            "text/html": [
              "<div>\n",
              "<style scoped>\n",
              "    .dataframe tbody tr th:only-of-type {\n",
              "        vertical-align: middle;\n",
              "    }\n",
              "\n",
              "    .dataframe tbody tr th {\n",
              "        vertical-align: top;\n",
              "    }\n",
              "\n",
              "    .dataframe thead th {\n",
              "        text-align: right;\n",
              "    }\n",
              "</style>\n",
              "<table border=\"1\" class=\"dataframe\">\n",
              "  <thead>\n",
              "    <tr style=\"text-align: right;\">\n",
              "      <th></th>\n",
              "      <th>RI</th>\n",
              "      <th>Na</th>\n",
              "      <th>Mg</th>\n",
              "      <th>Al</th>\n",
              "      <th>Si</th>\n",
              "      <th>K</th>\n",
              "      <th>Ca</th>\n",
              "      <th>Ba</th>\n",
              "      <th>Fe</th>\n",
              "      <th>Type</th>\n",
              "    </tr>\n",
              "  </thead>\n",
              "  <tbody>\n",
              "    <tr>\n",
              "      <th>0</th>\n",
              "      <td>1.52101</td>\n",
              "      <td>13.64</td>\n",
              "      <td>4.49</td>\n",
              "      <td>1.10</td>\n",
              "      <td>71.78</td>\n",
              "      <td>0.06</td>\n",
              "      <td>8.75</td>\n",
              "      <td>0.00</td>\n",
              "      <td>0.0</td>\n",
              "      <td>1</td>\n",
              "    </tr>\n",
              "    <tr>\n",
              "      <th>1</th>\n",
              "      <td>1.51761</td>\n",
              "      <td>13.89</td>\n",
              "      <td>3.60</td>\n",
              "      <td>1.36</td>\n",
              "      <td>72.73</td>\n",
              "      <td>0.48</td>\n",
              "      <td>7.83</td>\n",
              "      <td>0.00</td>\n",
              "      <td>0.0</td>\n",
              "      <td>1</td>\n",
              "    </tr>\n",
              "    <tr>\n",
              "      <th>2</th>\n",
              "      <td>1.51618</td>\n",
              "      <td>13.53</td>\n",
              "      <td>3.55</td>\n",
              "      <td>1.54</td>\n",
              "      <td>72.99</td>\n",
              "      <td>0.39</td>\n",
              "      <td>7.78</td>\n",
              "      <td>0.00</td>\n",
              "      <td>0.0</td>\n",
              "      <td>1</td>\n",
              "    </tr>\n",
              "    <tr>\n",
              "      <th>3</th>\n",
              "      <td>1.51766</td>\n",
              "      <td>13.21</td>\n",
              "      <td>3.69</td>\n",
              "      <td>1.29</td>\n",
              "      <td>72.61</td>\n",
              "      <td>0.57</td>\n",
              "      <td>8.22</td>\n",
              "      <td>0.00</td>\n",
              "      <td>0.0</td>\n",
              "      <td>1</td>\n",
              "    </tr>\n",
              "    <tr>\n",
              "      <th>4</th>\n",
              "      <td>1.51742</td>\n",
              "      <td>13.27</td>\n",
              "      <td>3.62</td>\n",
              "      <td>1.24</td>\n",
              "      <td>73.08</td>\n",
              "      <td>0.55</td>\n",
              "      <td>8.07</td>\n",
              "      <td>0.00</td>\n",
              "      <td>0.0</td>\n",
              "      <td>1</td>\n",
              "    </tr>\n",
              "    <tr>\n",
              "      <th>...</th>\n",
              "      <td>...</td>\n",
              "      <td>...</td>\n",
              "      <td>...</td>\n",
              "      <td>...</td>\n",
              "      <td>...</td>\n",
              "      <td>...</td>\n",
              "      <td>...</td>\n",
              "      <td>...</td>\n",
              "      <td>...</td>\n",
              "      <td>...</td>\n",
              "    </tr>\n",
              "    <tr>\n",
              "      <th>209</th>\n",
              "      <td>1.51623</td>\n",
              "      <td>14.14</td>\n",
              "      <td>0.00</td>\n",
              "      <td>2.88</td>\n",
              "      <td>72.61</td>\n",
              "      <td>0.08</td>\n",
              "      <td>9.18</td>\n",
              "      <td>1.06</td>\n",
              "      <td>0.0</td>\n",
              "      <td>6</td>\n",
              "    </tr>\n",
              "    <tr>\n",
              "      <th>210</th>\n",
              "      <td>1.51685</td>\n",
              "      <td>14.92</td>\n",
              "      <td>0.00</td>\n",
              "      <td>1.99</td>\n",
              "      <td>73.06</td>\n",
              "      <td>0.00</td>\n",
              "      <td>8.40</td>\n",
              "      <td>1.59</td>\n",
              "      <td>0.0</td>\n",
              "      <td>6</td>\n",
              "    </tr>\n",
              "    <tr>\n",
              "      <th>211</th>\n",
              "      <td>1.52065</td>\n",
              "      <td>14.36</td>\n",
              "      <td>0.00</td>\n",
              "      <td>2.02</td>\n",
              "      <td>73.42</td>\n",
              "      <td>0.00</td>\n",
              "      <td>8.44</td>\n",
              "      <td>1.64</td>\n",
              "      <td>0.0</td>\n",
              "      <td>6</td>\n",
              "    </tr>\n",
              "    <tr>\n",
              "      <th>212</th>\n",
              "      <td>1.51651</td>\n",
              "      <td>14.38</td>\n",
              "      <td>0.00</td>\n",
              "      <td>1.94</td>\n",
              "      <td>73.61</td>\n",
              "      <td>0.00</td>\n",
              "      <td>8.48</td>\n",
              "      <td>1.57</td>\n",
              "      <td>0.0</td>\n",
              "      <td>6</td>\n",
              "    </tr>\n",
              "    <tr>\n",
              "      <th>213</th>\n",
              "      <td>1.51711</td>\n",
              "      <td>14.23</td>\n",
              "      <td>0.00</td>\n",
              "      <td>2.08</td>\n",
              "      <td>73.36</td>\n",
              "      <td>0.00</td>\n",
              "      <td>8.62</td>\n",
              "      <td>1.67</td>\n",
              "      <td>0.0</td>\n",
              "      <td>6</td>\n",
              "    </tr>\n",
              "  </tbody>\n",
              "</table>\n",
              "<p>214 rows × 10 columns</p>\n",
              "</div>"
            ],
            "text/plain": [
              "          RI     Na    Mg    Al     Si     K    Ca    Ba   Fe  Type\n",
              "0    1.52101  13.64  4.49  1.10  71.78  0.06  8.75  0.00  0.0     1\n",
              "1    1.51761  13.89  3.60  1.36  72.73  0.48  7.83  0.00  0.0     1\n",
              "2    1.51618  13.53  3.55  1.54  72.99  0.39  7.78  0.00  0.0     1\n",
              "3    1.51766  13.21  3.69  1.29  72.61  0.57  8.22  0.00  0.0     1\n",
              "4    1.51742  13.27  3.62  1.24  73.08  0.55  8.07  0.00  0.0     1\n",
              "..       ...    ...   ...   ...    ...   ...   ...   ...  ...   ...\n",
              "209  1.51623  14.14  0.00  2.88  72.61  0.08  9.18  1.06  0.0     6\n",
              "210  1.51685  14.92  0.00  1.99  73.06  0.00  8.40  1.59  0.0     6\n",
              "211  1.52065  14.36  0.00  2.02  73.42  0.00  8.44  1.64  0.0     6\n",
              "212  1.51651  14.38  0.00  1.94  73.61  0.00  8.48  1.57  0.0     6\n",
              "213  1.51711  14.23  0.00  2.08  73.36  0.00  8.62  1.67  0.0     6\n",
              "\n",
              "[214 rows x 10 columns]"
            ]
          },
          "metadata": {
            "tags": []
          },
          "execution_count": 6
        }
      ]
    },
    {
      "cell_type": "code",
      "metadata": {
        "id": "5ic7HaiJcrT8",
        "colab_type": "code",
        "colab": {
          "base_uri": "https://localhost:8080/",
          "height": 136
        },
        "outputId": "97fec58a-c528-47cf-e427-bfe5e608d782"
      },
      "source": [
        "s = df['Type'].value_counts() \n",
        "print(s)"
      ],
      "execution_count": 7,
      "outputs": [
        {
          "output_type": "stream",
          "text": [
            "2    76\n",
            "1    70\n",
            "6    29\n",
            "3    17\n",
            "4    13\n",
            "5     9\n",
            "Name: Type, dtype: int64\n"
          ],
          "name": "stdout"
        }
      ]
    },
    {
      "cell_type": "code",
      "metadata": {
        "id": "3z1hqO2vX2fX",
        "colab_type": "code",
        "colab": {
          "base_uri": "https://localhost:8080/",
          "height": 280
        },
        "outputId": "1a83f9d1-ac7e-418d-af87-941f77b2ea74"
      },
      "source": [
        "graph = sns.countplot(x = 'Type',data = df)\n",
        "i = 1\n",
        "for p in graph.patches:\n",
        "  height = p.get_height()\n",
        "  width = p.get_width()\n",
        "  graph.text(p.get_x()+width/2,height+1,s[i],ha = \"center\")\n",
        "  i = i + 1\n",
        "plt.show()"
      ],
      "execution_count": 8,
      "outputs": [
        {
          "output_type": "display_data",
          "data": {
            "image/png": "[encoded data removed]",
            "text/plain": [
              "<Figure size 432x288 with 1 Axes>"
            ]
          },
          "metadata": {
            "tags": [],
            "needs_background": "light"
          }
        }
      ]
    },
    {
      "cell_type": "code",
      "metadata": {
        "id": "hMbyGrZMYq_J",
        "colab_type": "code",
        "colab": {}
      },
      "source": [
        "# do the data visualization using seaborn bargraph(check titanic)\n",
        "#plt.scatter(df['YearsExperience'],df['Salary'])\n",
        "#plt.show()\n"
      ],
      "execution_count": 9,
      "outputs": []
    },
    {
      "cell_type": "code",
      "metadata": {
        "id": "yrRxPd9LcDQ9",
        "colab_type": "code",
        "colab": {
          "base_uri": "https://localhost:8080/",
          "height": 419
        },
        "outputId": "4cb39d67-c38d-46ba-c686-c02b7fe78334"
      },
      "source": [
        "for i in range(214): # from the dataset info\n",
        "  if df.iloc[i,9] == 1:\n",
        "    df.iloc[i,9] = 'buildingwindowsfloatprocessed'\n",
        "  elif df.iloc[i,9] == 2:\n",
        "    df.iloc[i,9] = 'buildingwindowsnonfloatprocessed'\n",
        "  elif df.iloc[i,9] == 3:\n",
        "    df.iloc[i,9] = 'vehiclewindowsfloatprocessed'\n",
        "  elif df.iloc[i,9] == 4:\n",
        "    df.iloc[i,9] = 'containers'\n",
        "  elif df.iloc[i,9] == 5:\n",
        "    df.iloc[i,9] = 'tableware'\n",
        "  elif df.iloc[i,9] == 6:\n",
        "    df.iloc[i,9] = 'headlamps'\n",
        "df"
      ],
      "execution_count": 10,
      "outputs": [
        {
          "output_type": "execute_result",
          "data": {
            "text/html": [
              "<div>\n",
              "<style scoped>\n",
              "    .dataframe tbody tr th:only-of-type {\n",
              "        vertical-align: middle;\n",
              "    }\n",
              "\n",
              "    .dataframe tbody tr th {\n",
              "        vertical-align: top;\n",
              "    }\n",
              "\n",
              "    .dataframe thead th {\n",
              "        text-align: right;\n",
              "    }\n",
              "</style>\n",
              "<table border=\"1\" class=\"dataframe\">\n",
              "  <thead>\n",
              "    <tr style=\"text-align: right;\">\n",
              "      <th></th>\n",
              "      <th>RI</th>\n",
              "      <th>Na</th>\n",
              "      <th>Mg</th>\n",
              "      <th>Al</th>\n",
              "      <th>Si</th>\n",
              "      <th>K</th>\n",
              "      <th>Ca</th>\n",
              "      <th>Ba</th>\n",
              "      <th>Fe</th>\n",
              "      <th>Type</th>\n",
              "    </tr>\n",
              "  </thead>\n",
              "  <tbody>\n",
              "    <tr>\n",
              "      <th>0</th>\n",
              "      <td>1.52101</td>\n",
              "      <td>13.64</td>\n",
              "      <td>4.49</td>\n",
              "      <td>1.10</td>\n",
              "      <td>71.78</td>\n",
              "      <td>0.06</td>\n",
              "      <td>8.75</td>\n",
              "      <td>0.00</td>\n",
              "      <td>0.0</td>\n",
              "      <td>buildingwindowsfloatprocessed</td>\n",
              "    </tr>\n",
              "    <tr>\n",
              "      <th>1</th>\n",
              "      <td>1.51761</td>\n",
              "      <td>13.89</td>\n",
              "      <td>3.60</td>\n",
              "      <td>1.36</td>\n",
              "      <td>72.73</td>\n",
              "      <td>0.48</td>\n",
              "      <td>7.83</td>\n",
              "      <td>0.00</td>\n",
              "      <td>0.0</td>\n",
              "      <td>buildingwindowsfloatprocessed</td>\n",
              "    </tr>\n",
              "    <tr>\n",
              "      <th>2</th>\n",
              "      <td>1.51618</td>\n",
              "      <td>13.53</td>\n",
              "      <td>3.55</td>\n",
              "      <td>1.54</td>\n",
              "      <td>72.99</td>\n",
              "      <td>0.39</td>\n",
              "      <td>7.78</td>\n",
              "      <td>0.00</td>\n",
              "      <td>0.0</td>\n",
              "      <td>buildingwindowsfloatprocessed</td>\n",
              "    </tr>\n",
              "    <tr>\n",
              "      <th>3</th>\n",
              "      <td>1.51766</td>\n",
              "      <td>13.21</td>\n",
              "      <td>3.69</td>\n",
              "      <td>1.29</td>\n",
              "      <td>72.61</td>\n",
              "      <td>0.57</td>\n",
              "      <td>8.22</td>\n",
              "      <td>0.00</td>\n",
              "      <td>0.0</td>\n",
              "      <td>buildingwindowsfloatprocessed</td>\n",
              "    </tr>\n",
              "    <tr>\n",
              "      <th>4</th>\n",
              "      <td>1.51742</td>\n",
              "      <td>13.27</td>\n",
              "      <td>3.62</td>\n",
              "      <td>1.24</td>\n",
              "      <td>73.08</td>\n",
              "      <td>0.55</td>\n",
              "      <td>8.07</td>\n",
              "      <td>0.00</td>\n",
              "      <td>0.0</td>\n",
              "      <td>buildingwindowsfloatprocessed</td>\n",
              "    </tr>\n",
              "    <tr>\n",
              "      <th>...</th>\n",
              "      <td>...</td>\n",
              "      <td>...</td>\n",
              "      <td>...</td>\n",
              "      <td>...</td>\n",
              "      <td>...</td>\n",
              "      <td>...</td>\n",
              "      <td>...</td>\n",
              "      <td>...</td>\n",
              "      <td>...</td>\n",
              "      <td>...</td>\n",
              "    </tr>\n",
              "    <tr>\n",
              "      <th>209</th>\n",
              "      <td>1.51623</td>\n",
              "      <td>14.14</td>\n",
              "      <td>0.00</td>\n",
              "      <td>2.88</td>\n",
              "      <td>72.61</td>\n",
              "      <td>0.08</td>\n",
              "      <td>9.18</td>\n",
              "      <td>1.06</td>\n",
              "      <td>0.0</td>\n",
              "      <td>headlamps</td>\n",
              "    </tr>\n",
              "    <tr>\n",
              "      <th>210</th>\n",
              "      <td>1.51685</td>\n",
              "      <td>14.92</td>\n",
              "      <td>0.00</td>\n",
              "      <td>1.99</td>\n",
              "      <td>73.06</td>\n",
              "      <td>0.00</td>\n",
              "      <td>8.40</td>\n",
              "      <td>1.59</td>\n",
              "      <td>0.0</td>\n",
              "      <td>headlamps</td>\n",
              "    </tr>\n",
              "    <tr>\n",
              "      <th>211</th>\n",
              "      <td>1.52065</td>\n",
              "      <td>14.36</td>\n",
              "      <td>0.00</td>\n",
              "      <td>2.02</td>\n",
              "      <td>73.42</td>\n",
              "      <td>0.00</td>\n",
              "      <td>8.44</td>\n",
              "      <td>1.64</td>\n",
              "      <td>0.0</td>\n",
              "      <td>headlamps</td>\n",
              "    </tr>\n",
              "    <tr>\n",
              "      <th>212</th>\n",
              "      <td>1.51651</td>\n",
              "      <td>14.38</td>\n",
              "      <td>0.00</td>\n",
              "      <td>1.94</td>\n",
              "      <td>73.61</td>\n",
              "      <td>0.00</td>\n",
              "      <td>8.48</td>\n",
              "      <td>1.57</td>\n",
              "      <td>0.0</td>\n",
              "      <td>headlamps</td>\n",
              "    </tr>\n",
              "    <tr>\n",
              "      <th>213</th>\n",
              "      <td>1.51711</td>\n",
              "      <td>14.23</td>\n",
              "      <td>0.00</td>\n",
              "      <td>2.08</td>\n",
              "      <td>73.36</td>\n",
              "      <td>0.00</td>\n",
              "      <td>8.62</td>\n",
              "      <td>1.67</td>\n",
              "      <td>0.0</td>\n",
              "      <td>headlamps</td>\n",
              "    </tr>\n",
              "  </tbody>\n",
              "</table>\n",
              "<p>214 rows × 10 columns</p>\n",
              "</div>"
            ],
            "text/plain": [
              "          RI     Na    Mg    Al  ...    Ca    Ba   Fe                           Type\n",
              "0    1.52101  13.64  4.49  1.10  ...  8.75  0.00  0.0  buildingwindowsfloatprocessed\n",
              "1    1.51761  13.89  3.60  1.36  ...  7.83  0.00  0.0  buildingwindowsfloatprocessed\n",
              "2    1.51618  13.53  3.55  1.54  ...  7.78  0.00  0.0  buildingwindowsfloatprocessed\n",
              "3    1.51766  13.21  3.69  1.29  ...  8.22  0.00  0.0  buildingwindowsfloatprocessed\n",
              "4    1.51742  13.27  3.62  1.24  ...  8.07  0.00  0.0  buildingwindowsfloatprocessed\n",
              "..       ...    ...   ...   ...  ...   ...   ...  ...                            ...\n",
              "209  1.51623  14.14  0.00  2.88  ...  9.18  1.06  0.0                      headlamps\n",
              "210  1.51685  14.92  0.00  1.99  ...  8.40  1.59  0.0                      headlamps\n",
              "211  1.52065  14.36  0.00  2.02  ...  8.44  1.64  0.0                      headlamps\n",
              "212  1.51651  14.38  0.00  1.94  ...  8.48  1.57  0.0                      headlamps\n",
              "213  1.51711  14.23  0.00  2.08  ...  8.62  1.67  0.0                      headlamps\n",
              "\n",
              "[214 rows x 10 columns]"
            ]
          },
          "metadata": {
            "tags": []
          },
          "execution_count": 10
        }
      ]
    },
    {
      "cell_type": "code",
      "metadata": {
        "id": "LtVtr4WTZFhE",
        "colab_type": "code",
        "colab": {
          "base_uri": "https://localhost:8080/",
          "height": 306
        },
        "outputId": "dc032f6f-9b00-4893-9629-4e7d392c2a8c"
      },
      "source": [
        "df.info()"
      ],
      "execution_count": 11,
      "outputs": [
        {
          "output_type": "stream",
          "text": [
            "<class 'pandas.core.frame.DataFrame'>\n",
            "RangeIndex: 214 entries, 0 to 213\n",
            "Data columns (total 10 columns):\n",
            " #   Column  Non-Null Count  Dtype  \n",
            "---  ------  --------------  -----  \n",
            " 0   RI      214 non-null    float64\n",
            " 1   Na      214 non-null    float64\n",
            " 2   Mg      214 non-null    float64\n",
            " 3   Al      214 non-null    float64\n",
            " 4   Si      214 non-null    float64\n",
            " 5   K       214 non-null    float64\n",
            " 6   Ca      214 non-null    float64\n",
            " 7   Ba      214 non-null    float64\n",
            " 8   Fe      214 non-null    float64\n",
            " 9   Type    214 non-null    object \n",
            "dtypes: float64(9), object(1)\n",
            "memory usage: 16.8+ KB\n"
          ],
          "name": "stdout"
        }
      ]
    },
    {
      "cell_type": "code",
      "metadata": {
        "id": "5IoZcFJuZIRy",
        "colab_type": "code",
        "colab": {
          "base_uri": "https://localhost:8080/",
          "height": 204
        },
        "outputId": "8819fa2e-1f9e-4667-df24-21aa5e11a7da"
      },
      "source": [
        "df.isnull().sum()"
      ],
      "execution_count": null,
      "outputs": [
        {
          "output_type": "execute_result",
          "data": {
            "text/plain": [
              "RI      0\n",
              "Na      0\n",
              "Mg      0\n",
              "Al      0\n",
              "Si      0\n",
              "K       0\n",
              "Ca      0\n",
              "Ba      0\n",
              "Fe      0\n",
              "Type    0\n",
              "dtype: int64"
            ]
          },
          "metadata": {
            "tags": []
          },
          "execution_count": 27
        }
      ]
    },
    {
      "cell_type": "code",
      "metadata": {
        "id": "bLKrGwnOZLe1",
        "colab_type": "code",
        "colab": {
          "base_uri": "https://localhost:8080/",
          "height": 34
        },
        "outputId": "b61e4d89-5097-4958-bdd8-2d572a07536e"
      },
      "source": [
        "df.columns"
      ],
      "execution_count": null,
      "outputs": [
        {
          "output_type": "execute_result",
          "data": {
            "text/plain": [
              "Index(['RI', 'Na', 'Mg', 'Al', 'Si', 'K', 'Ca', 'Ba', 'Fe', 'Type'], dtype='object')"
            ]
          },
          "metadata": {
            "tags": []
          },
          "execution_count": 28
        }
      ]
    },
    {
      "cell_type": "code",
      "metadata": {
        "id": "Dk1g2bB8ZO3-",
        "colab_type": "code",
        "colab": {
          "base_uri": "https://localhost:8080/",
          "height": 68
        },
        "outputId": "85e2cfdd-ecdb-4132-d83e-d0f00cb8989f"
      },
      "source": [
        "df['Type'].unique()"
      ],
      "execution_count": null,
      "outputs": [
        {
          "output_type": "execute_result",
          "data": {
            "text/plain": [
              "array(['buildingwindowsfloatprocessed',\n",
              "       'buildingwindowsnonfloatprocessed', 'vehiclewindowsfloatprocessed',\n",
              "       'containers', 'tableware', 'headlamps'], dtype=object)"
            ]
          },
          "metadata": {
            "tags": []
          },
          "execution_count": 29
        }
      ]
    },
    {
      "cell_type": "code",
      "metadata": {
        "id": "dVPkQKtSZVaH",
        "colab_type": "code",
        "colab": {}
      },
      "source": [
        "# Classical Regression using KNN\n",
        "x = df.iloc[:,0:9].values\n",
        "y = df.iloc[:,9].values"
      ],
      "execution_count": 12,
      "outputs": []
    },
    {
      "cell_type": "code",
      "metadata": {
        "id": "hK__QsG6Zo1c",
        "colab_type": "code",
        "colab": {}
      },
      "source": [
        "from sklearn.model_selection import train_test_split\n",
        "x_train,x_test,y_train,y_test = train_test_split(x,y, random_state = 5) "
      ],
      "execution_count": 14,
      "outputs": []
    },
    {
      "cell_type": "code",
      "metadata": {
        "id": "Nh042WQ-bviA",
        "colab_type": "code",
        "colab": {}
      },
      "source": [
        "from sklearn.preprocessing import MinMaxScaler\n",
        "scaler = MinMaxScaler()\n",
        "x_train = scaler.fit_transform(x_train)\n",
        "x_test = scaler.transform(x_test)"
      ],
      "execution_count": null,
      "outputs": []
    },
    {
      "cell_type": "code",
      "metadata": {
        "id": "Oku_GDofZqSm",
        "colab_type": "code",
        "colab": {}
      },
      "source": [
        "from sklearn.neighbors import KNeighborsClassifier"
      ],
      "execution_count": null,
      "outputs": []
    },
    {
      "cell_type": "code",
      "metadata": {
        "id": "L7vj4iwBaEPB",
        "colab_type": "code",
        "colab": {
          "base_uri": "https://localhost:8080/",
          "height": 34
        },
        "outputId": "0a03de03-eb5f-411f-c456-fb00a5847b85"
      },
      "source": [
        "x_train.shape"
      ],
      "execution_count": null,
      "outputs": [
        {
          "output_type": "execute_result",
          "data": {
            "text/plain": [
              "(160, 9)"
            ]
          },
          "metadata": {
            "tags": []
          },
          "execution_count": 34
        }
      ]
    },
    {
      "cell_type": "code",
      "metadata": {
        "id": "QBxgjkepaG0h",
        "colab_type": "code",
        "colab": {}
      },
      "source": [
        "model = KNeighborsClassifier(n_neighbors=2)"
      ],
      "execution_count": null,
      "outputs": []
    },
    {
      "cell_type": "code",
      "metadata": {
        "id": "d600Z-JBaVW2",
        "colab_type": "code",
        "colab": {
          "base_uri": "https://localhost:8080/",
          "height": 646
        },
        "outputId": "c617b616-662b-481d-faec-489ae7233fa5"
      },
      "source": [
        "model.fit(x_train,y_train)\n",
        "y_pred = model.predict(x_test)\n",
        "y_pred # pedicted"
      ],
      "execution_count": null,
      "outputs": [
        {
          "output_type": "execute_result",
          "data": {
            "text/plain": [
              "array(['buildingwindowsfloatprocessed', 'buildingwindowsfloatprocessed',\n",
              "       'buildingwindowsnonfloatprocessed',\n",
              "       'buildingwindowsnonfloatprocessed',\n",
              "       'buildingwindowsfloatprocessed', 'headlamps', 'headlamps',\n",
              "       'buildingwindowsfloatprocessed', 'buildingwindowsfloatprocessed',\n",
              "       'buildingwindowsnonfloatprocessed',\n",
              "       'buildingwindowsnonfloatprocessed',\n",
              "       'buildingwindowsfloatprocessed',\n",
              "       'buildingwindowsnonfloatprocessed',\n",
              "       'buildingwindowsfloatprocessed', 'buildingwindowsfloatprocessed',\n",
              "       'buildingwindowsfloatprocessed',\n",
              "       'buildingwindowsnonfloatprocessed', 'headlamps',\n",
              "       'buildingwindowsnonfloatprocessed',\n",
              "       'buildingwindowsnonfloatprocessed',\n",
              "       'buildingwindowsfloatprocessed',\n",
              "       'buildingwindowsnonfloatprocessed',\n",
              "       'buildingwindowsnonfloatprocessed',\n",
              "       'buildingwindowsnonfloatprocessed',\n",
              "       'buildingwindowsnonfloatprocessed',\n",
              "       'buildingwindowsfloatprocessed', 'buildingwindowsfloatprocessed',\n",
              "       'headlamps', 'buildingwindowsnonfloatprocessed',\n",
              "       'buildingwindowsfloatprocessed', 'containers',\n",
              "       'buildingwindowsfloatprocessed',\n",
              "       'buildingwindowsnonfloatprocessed', 'headlamps',\n",
              "       'buildingwindowsfloatprocessed', 'tableware',\n",
              "       'buildingwindowsnonfloatprocessed', 'containers',\n",
              "       'buildingwindowsfloatprocessed',\n",
              "       'buildingwindowsnonfloatprocessed',\n",
              "       'buildingwindowsfloatprocessed', 'buildingwindowsfloatprocessed',\n",
              "       'buildingwindowsfloatprocessed', 'buildingwindowsfloatprocessed',\n",
              "       'buildingwindowsfloatprocessed', 'buildingwindowsfloatprocessed',\n",
              "       'buildingwindowsfloatprocessed',\n",
              "       'buildingwindowsnonfloatprocessed',\n",
              "       'buildingwindowsnonfloatprocessed',\n",
              "       'buildingwindowsnonfloatprocessed', 'headlamps', 'headlamps',\n",
              "       'buildingwindowsnonfloatprocessed', 'vehiclewindowsfloatprocessed'],\n",
              "      dtype=object)"
            ]
          },
          "metadata": {
            "tags": []
          },
          "execution_count": 36
        }
      ]
    },
    {
      "cell_type": "code",
      "metadata": {
        "id": "JrD4v9E9aalN",
        "colab_type": "code",
        "colab": {
          "base_uri": "https://localhost:8080/",
          "height": 34
        },
        "outputId": "f484fdc5-fd9a-4f60-cddf-65ea295a4dd5"
      },
      "source": [
        "from sklearn.metrics import accuracy_score\n",
        "accuracy_score(y_test,y_pred)*100"
      ],
      "execution_count": null,
      "outputs": [
        {
          "output_type": "execute_result",
          "data": {
            "text/plain": [
              "75.92592592592592"
            ]
          },
          "metadata": {
            "tags": []
          },
          "execution_count": 37
        }
      ]
    },
    {
      "cell_type": "code",
      "metadata": {
        "id": "oO7nbc2Bae47",
        "colab_type": "code",
        "colab": {
          "base_uri": "https://localhost:8080/",
          "height": 119
        },
        "outputId": "b9a2c1bf-867f-45fa-bebe-26a46674df3c"
      },
      "source": [
        "from sklearn.metrics import confusion_matrix\n",
        "confusion_matrix(y_test,y_pred)"
      ],
      "execution_count": null,
      "outputs": [
        {
          "output_type": "execute_result",
          "data": {
            "text/plain": [
              "array([[18,  3,  0,  0,  0,  0],\n",
              "       [ 3, 13,  1,  0,  0,  0],\n",
              "       [ 0,  0,  1,  0,  0,  0],\n",
              "       [ 0,  2,  0,  7,  0,  0],\n",
              "       [ 1,  0,  0,  0,  1,  0],\n",
              "       [ 1,  2,  0,  0,  0,  1]])"
            ]
          },
          "metadata": {
            "tags": []
          },
          "execution_count": 38
        }
      ]
    },
    {
      "cell_type": "code",
      "metadata": {
        "id": "9VVU5Nt4cgxJ",
        "colab_type": "code",
        "colab": {
          "base_uri": "https://localhost:8080/",
          "height": 238
        },
        "outputId": "26d730d6-0c89-40e2-c66e-08cc8782ea00"
      },
      "source": [
        "from sklearn.metrics import classification_report\n",
        "print(classification_report(y_test,y_pred))"
      ],
      "execution_count": null,
      "outputs": [
        {
          "output_type": "stream",
          "text": [
            "                                  precision    recall  f1-score   support\n",
            "\n",
            "   buildingwindowsfloatprocessed       0.78      0.86      0.82        21\n",
            "buildingwindowsnonfloatprocessed       0.65      0.76      0.70        17\n",
            "                      containers       0.50      1.00      0.67         1\n",
            "                       headlamps       1.00      0.78      0.88         9\n",
            "                       tableware       1.00      0.50      0.67         2\n",
            "    vehiclewindowsfloatprocessed       1.00      0.25      0.40         4\n",
            "\n",
            "                        accuracy                           0.76        54\n",
            "                       macro avg       0.82      0.69      0.69        54\n",
            "                    weighted avg       0.80      0.76      0.75        54\n",
            "\n"
          ],
          "name": "stdout"
        }
      ]
    },
    {
      "cell_type": "code",
      "metadata": {
        "id": "IZAbJd_OamvM",
        "colab_type": "code",
        "colab": {
          "base_uri": "https://localhost:8080/",
          "height": 119
        },
        "outputId": "6c4423c2-d2fc-47f0-93da-89126fb82723"
      },
      "source": [
        "'buildingwindowsfloatprocessed','buildingwindowsnonfloatprocessed', 'vehiclewindowsfloatprocessed','containers', 'tableware', 'headlamps'"
      ],
      "execution_count": null,
      "outputs": [
        {
          "output_type": "execute_result",
          "data": {
            "text/plain": [
              "('buildingwindowsfloatprocessed',\n",
              " 'buildingwindowsnonfloatprocessed',\n",
              " 'vehiclewindowsfloatprocessed',\n",
              " 'containers',\n",
              " 'tableware',\n",
              " 'headlamps')"
            ]
          },
          "metadata": {
            "tags": []
          },
          "execution_count": 40
        }
      ]
    },
    {
      "cell_type": "code",
      "metadata": {
        "id": "J-wES338bXhs",
        "colab_type": "code",
        "colab": {}
      },
      "source": [
        "# 1 - 72\n",
        "# r5 - k2 - 75"
      ],
      "execution_count": null,
      "outputs": []
    },
    {
      "cell_type": "code",
      "metadata": {
        "id": "OqT14Z8DcS0J",
        "colab_type": "code",
        "colab": {}
      },
      "source": [
        "# Multiple Linear regression (to find the refractive index based on the element composition and proportion)\n",
        "x = df.iloc[:,1:9].values\n",
        "y = df.iloc[:,0].values"
      ],
      "execution_count": 15,
      "outputs": []
    },
    {
      "cell_type": "code",
      "metadata": {
        "id": "2ZIxiP_4e2ds",
        "colab_type": "code",
        "colab": {
          "base_uri": "https://localhost:8080/",
          "height": 136
        },
        "outputId": "2158a502-2745-44dd-84d1-1dc3cea18948"
      },
      "source": [
        "x_train,x_test,y_train,y_test = train_test_split(x,y, random_state = 5) \n",
        "x_train"
      ],
      "execution_count": 16,
      "outputs": [
        {
          "output_type": "execute_result",
          "data": {
            "text/plain": [
              "array([[13.42,  3.4 ,  1.22, ...,  8.32,  0.  ,  0.  ],\n",
              "       [13.72,  3.72,  0.51, ..., 10.06,  0.  ,  0.16],\n",
              "       [14.23,  0.  ,  2.08, ...,  8.62,  1.67,  0.  ],\n",
              "       ...,\n",
              "       [15.79,  1.83,  1.31, ...,  8.61,  1.68,  0.  ],\n",
              "       [14.94,  0.  ,  1.87, ...,  8.67,  1.38,  0.  ],\n",
              "       [12.96,  2.96,  1.43, ...,  8.79,  0.14,  0.  ]])"
            ]
          },
          "metadata": {
            "tags": []
          },
          "execution_count": 16
        }
      ]
    },
    {
      "cell_type": "code",
      "metadata": {
        "id": "D9NSa2JKfCL7",
        "colab_type": "code",
        "colab": {
          "base_uri": "https://localhost:8080/",
          "height": 204
        },
        "outputId": "be66be2a-3d94-4563-9040-2b6fdd89b57f"
      },
      "source": [
        "from sklearn.linear_model import LinearRegression\n",
        "model = LinearRegression()\n",
        "model.fit(x_train,y_train)\n",
        "y_pred = model.predict(x_test)\n",
        "y_pred # predicted o/p"
      ],
      "execution_count": 39,
      "outputs": [
        {
          "output_type": "execute_result",
          "data": {
            "text/plain": [
              "array([1.52121663, 1.51820505, 1.51469021, 1.51866964, 1.51754801,\n",
              "       1.51422887, 1.51649854, 1.51711929, 1.51721288, 1.5198967 ,\n",
              "       1.52121226, 1.5178281 , 1.51605678, 1.51715827, 1.51790131,\n",
              "       1.51779903, 1.51665669, 1.51582436, 1.51680802, 1.52040831,\n",
              "       1.51826063, 1.51761596, 1.51647345, 1.51679832, 1.51874743,\n",
              "       1.51863554, 1.51968116, 1.51706412, 1.51696469, 1.51729767,\n",
              "       1.51401014, 1.52223384, 1.51748295, 1.51776506, 1.51794925,\n",
              "       1.51148535, 1.51390986, 1.5216368 , 1.51838901, 1.51797862,\n",
              "       1.52055668, 1.5212191 , 1.51738411, 1.52232835, 1.51753264,\n",
              "       1.51824309, 1.51952598, 1.51898407, 1.51830972, 1.51993156,\n",
              "       1.51563543, 1.51552781, 1.51777723, 1.51824262])"
            ]
          },
          "metadata": {
            "tags": []
          },
          "execution_count": 39
        }
      ]
    },
    {
      "cell_type": "code",
      "metadata": {
        "id": "XjPEDWHufPvc",
        "colab_type": "code",
        "colab": {
          "base_uri": "https://localhost:8080/",
          "height": 34
        },
        "outputId": "791f3da1-656e-4fe9-d548-104fa22596ae"
      },
      "source": [
        "from sklearn import metrics\n",
        "metrics.mean_squared_error(y_test,y_pred)"
      ],
      "execution_count": 18,
      "outputs": [
        {
          "output_type": "execute_result",
          "data": {
            "text/plain": [
              "1.0342702942874938e-06"
            ]
          },
          "metadata": {
            "tags": []
          },
          "execution_count": 18
        }
      ]
    },
    {
      "cell_type": "code",
      "metadata": {
        "id": "yGKbEARVfU-T",
        "colab_type": "code",
        "colab": {
          "base_uri": "https://localhost:8080/",
          "height": 34
        },
        "outputId": "e6d348c4-9ed7-43fa-a768-cb2eab3b8237"
      },
      "source": [
        "metrics.r2_score(y_test,y_pred)"
      ],
      "execution_count": 23,
      "outputs": [
        {
          "output_type": "execute_result",
          "data": {
            "text/plain": [
              "0.8205534470258127"
            ]
          },
          "metadata": {
            "tags": []
          },
          "execution_count": 23
        }
      ]
    },
    {
      "cell_type": "code",
      "metadata": {
        "id": "vK41SJTP5Kz9",
        "colab_type": "code",
        "colab": {
          "base_uri": "https://localhost:8080/",
          "height": 513
        },
        "outputId": "ac1d0a76-3f1a-4668-f027-01c26d64dfac"
      },
      "source": [
        "# using grid search cv to find best parameters for ridge regresssion\n",
        "from sklearn.model_selection import GridSearchCV\n",
        "from sklearn.linear_model import Ridge\n",
        "parameters = {'alpha':[10**-5,10**-4,10**-3,10**-2,10**-1,1,10**1,10**2,10**3,10**4,10**5]}\n",
        "ridge = Ridge()\n",
        "clf = GridSearchCV(ridge, parameters, cv = 5, scoring='neg_mean_squared_error')\n",
        "clf.fit(x,y)\n",
        "print(clf.cv_results_)"
      ],
      "execution_count": 51,
      "outputs": [
        {
          "output_type": "stream",
          "text": [
            "{'mean_fit_time': array([0.00119901, 0.00060968, 0.00048151, 0.00046625, 0.00048819,\n",
            "       0.0004724 , 0.00047135, 0.00047164, 0.00047626, 0.00046077,\n",
            "       0.00048285]), 'std_fit_time': array([3.28132607e-04, 8.62509189e-05, 2.33784462e-05, 1.33927591e-05,\n",
            "       2.40193436e-05, 2.59136319e-05, 1.96275118e-05, 2.26592496e-05,\n",
            "       2.05032215e-05, 1.45764058e-05, 1.34561047e-05]), 'mean_score_time': array([0.00073619, 0.00042291, 0.00029054, 0.0002974 , 0.0002912 ,\n",
            "       0.0002985 , 0.00027971, 0.0003036 , 0.00028005, 0.00029454,\n",
            "       0.00028067]), 'std_score_time': array([1.76171965e-04, 6.06103733e-05, 1.16728723e-05, 7.29825714e-06,\n",
            "       7.35721260e-06, 1.17063280e-05, 4.95635470e-06, 1.94982673e-05,\n",
            "       5.15028281e-06, 1.01976284e-05, 4.02186067e-06]), 'param_alpha': masked_array(data=[1e-05, 0.0001, 0.001, 0.01, 0.1, 1, 10, 100, 1000,\n",
            "                   10000, 100000],\n",
            "             mask=[False, False, False, False, False, False, False, False,\n",
            "                   False, False, False],\n",
            "       fill_value='?',\n",
            "            dtype=object), 'params': [{'alpha': 1e-05}, {'alpha': 0.0001}, {'alpha': 0.001}, {'alpha': 0.01}, {'alpha': 0.1}, {'alpha': 1}, {'alpha': 10}, {'alpha': 100}, {'alpha': 1000}, {'alpha': 10000}, {'alpha': 100000}], 'split0_test_score': array([-3.52574134e-07, -3.52572680e-07, -3.52558442e-07, -3.52444342e-07,\n",
            "       -3.52863243e-07, -3.59526286e-07, -3.52071318e-07, -5.67893539e-07,\n",
            "       -1.65804400e-06, -2.32747692e-06, -2.43837009e-06]), 'split1_test_score': array([-1.25146510e-06, -1.25148245e-06, -1.25165547e-06, -1.25333888e-06,\n",
            "       -1.26648593e-06, -1.30588235e-06, -1.45409055e-06, -2.61861943e-06,\n",
            "       -6.10953076e-06, -7.95234503e-06, -8.22920138e-06]), 'split2_test_score': array([-7.51207489e-07, -7.51214475e-07, -7.51284341e-07, -7.51982702e-07,\n",
            "       -7.58193130e-07, -7.69285229e-07, -9.80486893e-07, -4.97217311e-06,\n",
            "       -1.65709269e-05, -2.12647543e-05, -2.18693417e-05]), 'split3_test_score': array([-8.14049906e-07, -8.14039147e-07, -8.13933465e-07, -8.13051657e-07,\n",
            "       -8.12846543e-07, -8.33218674e-07, -8.35341452e-07, -1.05730101e-06,\n",
            "       -3.36281761e-06, -5.40565429e-06, -5.74964018e-06]), 'split4_test_score': array([-3.59590957e-06, -3.59599715e-06, -3.59687034e-06, -3.60535072e-06,\n",
            "       -3.67062590e-06, -3.82911022e-06, -3.47544530e-06, -4.18822014e-06,\n",
            "       -7.85817687e-06, -8.84748431e-06, -9.00483323e-06]), 'mean_test_score': array([-1.35304124e-06, -1.35306118e-06, -1.35326041e-06, -1.35523366e-06,\n",
            "       -1.37220295e-06, -1.41940455e-06, -1.41948710e-06, -2.68084145e-06,\n",
            "       -7.11189922e-06, -9.15954297e-06, -9.45827733e-06]), 'std_test_score': array([1.15710207e-06, 1.15713625e-06, 1.15747676e-06, 1.16076430e-06,\n",
            "       1.18514684e-06, 1.24170686e-06, 1.08641477e-06, 1.71036226e-06,\n",
            "       5.19297654e-06, 6.46312086e-06, 6.61488997e-06]), 'rank_test_score': array([ 1,  2,  3,  4,  5,  6,  7,  8,  9, 10, 11], dtype=int32)}\n"
          ],
          "name": "stdout"
        }
      ]
    },
    {
      "cell_type": "code",
      "metadata": {
        "id": "fTTJaXNl5UfK",
        "colab_type": "code",
        "colab": {
          "base_uri": "https://localhost:8080/",
          "height": 51
        },
        "outputId": "b74a5432-9574-4f9d-8413-2208516830b6"
      },
      "source": [
        "clf.best_estimator_ # best parameters"
      ],
      "execution_count": 48,
      "outputs": [
        {
          "output_type": "execute_result",
          "data": {
            "text/plain": [
              "Ridge(alpha=1e-05, copy_X=True, fit_intercept=True, max_iter=None,\n",
              "      normalize=False, random_state=None, solver='auto', tol=0.001)"
            ]
          },
          "metadata": {
            "tags": []
          },
          "execution_count": 48
        }
      ]
    },
    {
      "cell_type": "code",
      "metadata": {
        "id": "UYLimzKr5Upb",
        "colab_type": "code",
        "colab": {
          "base_uri": "https://localhost:8080/",
          "height": 34
        },
        "outputId": "2270fab6-62de-47aa-d311-099e5b2c9bbc"
      },
      "source": [
        "# training on ridge regression with best parameters and finding MSE(mean squared error)\n",
        "from sklearn.model_selection import cross_val_score\n",
        "mod = clf.best_estimator_\n",
        "mse = cross_val_score(mod,x,y,scoring = 'neg_mean_squared_error',cv = 5)\n",
        "mean_mse = np.mean(mse)\n",
        "print(mean_mse)"
      ],
      "execution_count": 49,
      "outputs": [
        {
          "output_type": "stream",
          "text": [
            "-1.3530412399429503e-06\n"
          ],
          "name": "stdout"
        }
      ]
    },
    {
      "cell_type": "code",
      "metadata": {
        "id": "-f5yVoFjfYwj",
        "colab_type": "code",
        "colab": {}
      },
      "source": [
        "# 10^-6 - MSE - Ridge with Grid search CV\n",
        "# r5 - 82% - linear\n",
        "# k2 - 75% - KNN"
      ],
      "execution_count": 30,
      "outputs": []
    }
  ]
}